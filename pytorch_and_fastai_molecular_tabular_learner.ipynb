{
  "nbformat": 4,
  "nbformat_minor": 0,
  "metadata": {
    "colab": {
      "name": "pytorch_and_fastai_molecular_tabular_learner.ipynb",
      "version": "0.3.2",
      "provenance": [],
      "collapsed_sections": [],
      "include_colab_link": true
    },
    "kernelspec": {
      "name": "python3",
      "display_name": "Python 3"
    },
    "accelerator": "GPU"
  },
  "cells": [
    {
      "cell_type": "markdown",
      "metadata": {
        "id": "view-in-github",
        "colab_type": "text"
      },
      "source": [
        "<a href=\"https://colab.research.google.com/github/mc-robinson/random/blob/master/pytorch_and_fastai_molecular_tabular_learner.ipynb\" target=\"_parent\"><img src=\"https://colab.research.google.com/assets/colab-badge.svg\" alt=\"Open In Colab\"/></a>"
      ]
    },
    {
      "metadata": {
        "id": "C8xU1BRYOXOb",
        "colab_type": "text"
      },
      "cell_type": "markdown",
      "source": [
        "# Attempting to use molecular data with fastai/pytorch"
      ]
    },
    {
      "metadata": {
        "id": "ZkclT7CVP24M",
        "colab_type": "code",
        "outputId": "702d1c8c-6cf9-489d-ed3c-b44c6ebb8778",
        "colab": {
          "base_uri": "https://localhost:8080/",
          "height": 355
        }
      },
      "cell_type": "code",
      "source": [
        "# must use new version of pandas to correctly work with pkl\n",
        "!pip install pandas==0.24.1"
      ],
      "execution_count": 1,
      "outputs": [
        {
          "output_type": "stream",
          "text": [
            "Collecting pandas==0.24.1\n",
            "\u001b[?25l  Downloading https://files.pythonhosted.org/packages/e6/de/a0d3defd8f338eaf53ef716e40ef6d6c277c35d50e09b586e170169cdf0d/pandas-0.24.1-cp36-cp36m-manylinux1_x86_64.whl (10.1MB)\n",
            "\u001b[K    100% |████████████████████████████████| 10.1MB 4.1MB/s \n",
            "\u001b[?25hRequirement already satisfied: pytz>=2011k in /usr/local/lib/python3.6/dist-packages (from pandas==0.24.1) (2018.9)\n",
            "Requirement already satisfied: numpy>=1.12.0 in /usr/local/lib/python3.6/dist-packages (from pandas==0.24.1) (1.14.6)\n",
            "Requirement already satisfied: python-dateutil>=2.5.0 in /usr/local/lib/python3.6/dist-packages (from pandas==0.24.1) (2.5.3)\n",
            "Requirement already satisfied: six>=1.5 in /usr/local/lib/python3.6/dist-packages (from python-dateutil>=2.5.0->pandas==0.24.1) (1.11.0)\n",
            "\u001b[31mpymc3 3.6 has requirement joblib<0.13.0, but you'll have joblib 0.13.2 which is incompatible.\u001b[0m\n",
            "Installing collected packages: pandas\n",
            "  Found existing installation: pandas 0.22.0\n",
            "    Uninstalling pandas-0.22.0:\n",
            "      Successfully uninstalled pandas-0.22.0\n",
            "Successfully installed pandas-0.24.1\n"
          ],
          "name": "stdout"
        },
        {
          "output_type": "display_data",
          "data": {
            "application/vnd.colab-display-data+json": {
              "pip_warning": {
                "packages": [
                  "pandas"
                ]
              }
            }
          },
          "metadata": {
            "tags": []
          }
        }
      ]
    },
    {
      "metadata": {
        "id": "8-8ceuCQPqNE",
        "colab_type": "code",
        "colab": {}
      },
      "cell_type": "code",
      "source": [
        "# after restarting the runtime\n",
        "import numpy as np\n",
        "import pandas as pd\n",
        "import matplotlib.pyplot as plt\n",
        "%matplotlib inline"
      ],
      "execution_count": 0,
      "outputs": []
    },
    {
      "metadata": {
        "id": "ZpntdCrIdB7w",
        "colab_type": "code",
        "colab": {}
      },
      "cell_type": "code",
      "source": [
        "import torch\n",
        "import fastai\n",
        "from fastai.tabular import *"
      ],
      "execution_count": 0,
      "outputs": []
    },
    {
      "metadata": {
        "id": "U6X2pgN_4OnD",
        "colab_type": "code",
        "outputId": "347bb001-9de7-478c-a3bb-50d6863c9f34",
        "colab": {
          "base_uri": "https://localhost:8080/",
          "height": 193
        }
      },
      "cell_type": "code",
      "source": [
        "# Doing work so we can access data from Google drive\n",
        "# Note that a brief authorization step is necessary \n",
        "!pip install PyDrive\n",
        "from pydrive.auth import GoogleAuth\n",
        "from pydrive.drive import GoogleDrive\n",
        "from google.colab import auth\n",
        "from oauth2client.client import GoogleCredentials\n",
        "\n",
        "auth.authenticate_user()\n",
        "gauth = GoogleAuth()\n",
        "gauth.credentials = GoogleCredentials.get_application_default()\n",
        "drive = GoogleDrive(gauth)"
      ],
      "execution_count": 5,
      "outputs": [
        {
          "output_type": "stream",
          "text": [
            "Requirement already satisfied: PyDrive in /usr/local/lib/python3.6/dist-packages (1.3.1)\n",
            "Requirement already satisfied: google-api-python-client>=1.2 in /usr/local/lib/python3.6/dist-packages (from PyDrive) (1.6.7)\n",
            "Requirement already satisfied: PyYAML>=3.0 in /usr/local/lib/python3.6/dist-packages (from PyDrive) (3.13)\n",
            "Requirement already satisfied: oauth2client>=4.0.0 in /usr/local/lib/python3.6/dist-packages (from PyDrive) (4.1.3)\n",
            "Requirement already satisfied: uritemplate<4dev,>=3.0.0 in /usr/local/lib/python3.6/dist-packages (from google-api-python-client>=1.2->PyDrive) (3.0.0)\n",
            "Requirement already satisfied: httplib2<1dev,>=0.9.2 in /usr/local/lib/python3.6/dist-packages (from google-api-python-client>=1.2->PyDrive) (0.11.3)\n",
            "Requirement already satisfied: six<2dev,>=1.6.1 in /usr/local/lib/python3.6/dist-packages (from google-api-python-client>=1.2->PyDrive) (1.11.0)\n",
            "Requirement already satisfied: pyasn1-modules>=0.0.5 in /usr/local/lib/python3.6/dist-packages (from oauth2client>=4.0.0->PyDrive) (0.2.4)\n",
            "Requirement already satisfied: pyasn1>=0.1.7 in /usr/local/lib/python3.6/dist-packages (from oauth2client>=4.0.0->PyDrive) (0.4.5)\n",
            "Requirement already satisfied: rsa>=3.1.4 in /usr/local/lib/python3.6/dist-packages (from oauth2client>=4.0.0->PyDrive) (4.0)\n"
          ],
          "name": "stdout"
        }
      ]
    },
    {
      "metadata": {
        "id": "DdOCvKyy402G",
        "colab_type": "code",
        "colab": {}
      },
      "cell_type": "code",
      "source": [
        "# Now download the csv, which I have made shareable via google drive\n",
        "# note that the id is the ending part of the shareable link url (after open?id=)\n",
        "download = drive.CreateFile({'id': '1uc0dI2z0bPYuW2ptOM5M1cFQqXM2eXto'})\n",
        "download.GetContentFile('acidic_pka_df.csv')"
      ],
      "execution_count": 0,
      "outputs": []
    },
    {
      "metadata": {
        "id": "cgbFcegJc9ue",
        "colab_type": "code",
        "outputId": "e137a028-5353-416c-bd43-4122fb413cdf",
        "colab": {
          "base_uri": "https://localhost:8080/",
          "height": 244
        }
      },
      "cell_type": "code",
      "source": [
        "pka_df = pd.read_csv('acidic_pka_df.csv')\n",
        "pka_df.head()"
      ],
      "execution_count": 7,
      "outputs": [
        {
          "output_type": "execute_result",
          "data": {
            "text/html": [
              "<div>\n",
              "<style scoped>\n",
              "    .dataframe tbody tr th:only-of-type {\n",
              "        vertical-align: middle;\n",
              "    }\n",
              "\n",
              "    .dataframe tbody tr th {\n",
              "        vertical-align: top;\n",
              "    }\n",
              "\n",
              "    .dataframe thead th {\n",
              "        text-align: right;\n",
              "    }\n",
              "</style>\n",
              "<table border=\"1\" class=\"dataframe\">\n",
              "  <thead>\n",
              "    <tr style=\"text-align: right;\">\n",
              "      <th></th>\n",
              "      <th>pka</th>\n",
              "      <th>bit_0</th>\n",
              "      <th>bit_1</th>\n",
              "      <th>bit_2</th>\n",
              "      <th>bit_3</th>\n",
              "      <th>bit_4</th>\n",
              "      <th>bit_5</th>\n",
              "      <th>bit_6</th>\n",
              "      <th>bit_7</th>\n",
              "      <th>bit_8</th>\n",
              "      <th>...</th>\n",
              "      <th>bit_2038</th>\n",
              "      <th>bit_2039</th>\n",
              "      <th>bit_2040</th>\n",
              "      <th>bit_2041</th>\n",
              "      <th>bit_2042</th>\n",
              "      <th>bit_2043</th>\n",
              "      <th>bit_2044</th>\n",
              "      <th>bit_2045</th>\n",
              "      <th>bit_2046</th>\n",
              "      <th>bit_2047</th>\n",
              "    </tr>\n",
              "  </thead>\n",
              "  <tbody>\n",
              "    <tr>\n",
              "      <th>0</th>\n",
              "      <td>6.35</td>\n",
              "      <td>0.0</td>\n",
              "      <td>0.0</td>\n",
              "      <td>0.0</td>\n",
              "      <td>0.0</td>\n",
              "      <td>0.0</td>\n",
              "      <td>0.0</td>\n",
              "      <td>0.0</td>\n",
              "      <td>0.0</td>\n",
              "      <td>0.0</td>\n",
              "      <td>...</td>\n",
              "      <td>0.0</td>\n",
              "      <td>0.0</td>\n",
              "      <td>0.0</td>\n",
              "      <td>0.0</td>\n",
              "      <td>0.0</td>\n",
              "      <td>0.0</td>\n",
              "      <td>0.0</td>\n",
              "      <td>0.0</td>\n",
              "      <td>0.0</td>\n",
              "      <td>0.0</td>\n",
              "    </tr>\n",
              "    <tr>\n",
              "      <th>1</th>\n",
              "      <td>5.76</td>\n",
              "      <td>0.0</td>\n",
              "      <td>0.0</td>\n",
              "      <td>0.0</td>\n",
              "      <td>0.0</td>\n",
              "      <td>0.0</td>\n",
              "      <td>0.0</td>\n",
              "      <td>0.0</td>\n",
              "      <td>0.0</td>\n",
              "      <td>0.0</td>\n",
              "      <td>...</td>\n",
              "      <td>0.0</td>\n",
              "      <td>0.0</td>\n",
              "      <td>0.0</td>\n",
              "      <td>0.0</td>\n",
              "      <td>0.0</td>\n",
              "      <td>0.0</td>\n",
              "      <td>0.0</td>\n",
              "      <td>0.0</td>\n",
              "      <td>0.0</td>\n",
              "      <td>0.0</td>\n",
              "    </tr>\n",
              "    <tr>\n",
              "      <th>2</th>\n",
              "      <td>5.82</td>\n",
              "      <td>0.0</td>\n",
              "      <td>0.0</td>\n",
              "      <td>0.0</td>\n",
              "      <td>0.0</td>\n",
              "      <td>0.0</td>\n",
              "      <td>0.0</td>\n",
              "      <td>0.0</td>\n",
              "      <td>0.0</td>\n",
              "      <td>0.0</td>\n",
              "      <td>...</td>\n",
              "      <td>0.0</td>\n",
              "      <td>0.0</td>\n",
              "      <td>0.0</td>\n",
              "      <td>0.0</td>\n",
              "      <td>0.0</td>\n",
              "      <td>0.0</td>\n",
              "      <td>0.0</td>\n",
              "      <td>0.0</td>\n",
              "      <td>0.0</td>\n",
              "      <td>0.0</td>\n",
              "    </tr>\n",
              "    <tr>\n",
              "      <th>3</th>\n",
              "      <td>5.80</td>\n",
              "      <td>0.0</td>\n",
              "      <td>0.0</td>\n",
              "      <td>0.0</td>\n",
              "      <td>0.0</td>\n",
              "      <td>0.0</td>\n",
              "      <td>0.0</td>\n",
              "      <td>0.0</td>\n",
              "      <td>0.0</td>\n",
              "      <td>0.0</td>\n",
              "      <td>...</td>\n",
              "      <td>0.0</td>\n",
              "      <td>0.0</td>\n",
              "      <td>0.0</td>\n",
              "      <td>0.0</td>\n",
              "      <td>0.0</td>\n",
              "      <td>0.0</td>\n",
              "      <td>0.0</td>\n",
              "      <td>0.0</td>\n",
              "      <td>0.0</td>\n",
              "      <td>0.0</td>\n",
              "    </tr>\n",
              "    <tr>\n",
              "      <th>4</th>\n",
              "      <td>9.43</td>\n",
              "      <td>0.0</td>\n",
              "      <td>0.0</td>\n",
              "      <td>0.0</td>\n",
              "      <td>0.0</td>\n",
              "      <td>0.0</td>\n",
              "      <td>0.0</td>\n",
              "      <td>0.0</td>\n",
              "      <td>0.0</td>\n",
              "      <td>0.0</td>\n",
              "      <td>...</td>\n",
              "      <td>0.0</td>\n",
              "      <td>0.0</td>\n",
              "      <td>0.0</td>\n",
              "      <td>0.0</td>\n",
              "      <td>0.0</td>\n",
              "      <td>0.0</td>\n",
              "      <td>0.0</td>\n",
              "      <td>0.0</td>\n",
              "      <td>0.0</td>\n",
              "      <td>0.0</td>\n",
              "    </tr>\n",
              "  </tbody>\n",
              "</table>\n",
              "<p>5 rows × 2049 columns</p>\n",
              "</div>"
            ],
            "text/plain": [
              "    pka  bit_0  bit_1  bit_2  bit_3  bit_4  bit_5  bit_6  bit_7  bit_8  \\\n",
              "0  6.35    0.0    0.0    0.0    0.0    0.0    0.0    0.0    0.0    0.0   \n",
              "1  5.76    0.0    0.0    0.0    0.0    0.0    0.0    0.0    0.0    0.0   \n",
              "2  5.82    0.0    0.0    0.0    0.0    0.0    0.0    0.0    0.0    0.0   \n",
              "3  5.80    0.0    0.0    0.0    0.0    0.0    0.0    0.0    0.0    0.0   \n",
              "4  9.43    0.0    0.0    0.0    0.0    0.0    0.0    0.0    0.0    0.0   \n",
              "\n",
              "     ...     bit_2038  bit_2039  bit_2040  bit_2041  bit_2042  bit_2043  \\\n",
              "0    ...          0.0       0.0       0.0       0.0       0.0       0.0   \n",
              "1    ...          0.0       0.0       0.0       0.0       0.0       0.0   \n",
              "2    ...          0.0       0.0       0.0       0.0       0.0       0.0   \n",
              "3    ...          0.0       0.0       0.0       0.0       0.0       0.0   \n",
              "4    ...          0.0       0.0       0.0       0.0       0.0       0.0   \n",
              "\n",
              "   bit_2044  bit_2045  bit_2046  bit_2047  \n",
              "0       0.0       0.0       0.0       0.0  \n",
              "1       0.0       0.0       0.0       0.0  \n",
              "2       0.0       0.0       0.0       0.0  \n",
              "3       0.0       0.0       0.0       0.0  \n",
              "4       0.0       0.0       0.0       0.0  \n",
              "\n",
              "[5 rows x 2049 columns]"
            ]
          },
          "metadata": {
            "tags": []
          },
          "execution_count": 7
        }
      ]
    },
    {
      "metadata": {
        "id": "3Co_VTPm6oLo",
        "colab_type": "code",
        "colab": {}
      },
      "cell_type": "code",
      "source": [
        "# do a 80, 10, 10 split\n",
        "train_df, valid_df, test_df = np.split(\n",
        "  pka_df.sample(frac=1, random_state=42),\n",
        "  [int(0.80*len(pka_df)), int(0.90*len(pka_df))]  \n",
        ")"
      ],
      "execution_count": 0,
      "outputs": []
    },
    {
      "metadata": {
        "id": "nqrF_o8q-a7G",
        "colab_type": "code",
        "colab": {}
      },
      "cell_type": "code",
      "source": [
        "X_train = train_df.values[:,1:]\n",
        "y_train = train_df.values[:,0]\n",
        "\n",
        "X_valid = valid_df.values[:,1:]\n",
        "y_valid = valid_df.values[:,0]\n",
        "\n",
        "X_test = test_df.values[:,1:]\n",
        "y_test = test_df.values[:,0]"
      ],
      "execution_count": 0,
      "outputs": []
    },
    {
      "metadata": {
        "id": "1m2B3r5iHA8o",
        "colab_type": "text"
      },
      "cell_type": "markdown",
      "source": [
        "## Test first on simple GBRT to make sure we are still getting decent results"
      ]
    },
    {
      "metadata": {
        "id": "FVJVyi-JG_1S",
        "colab_type": "code",
        "outputId": "f2192e97-3d72-4b5c-e9a6-178aa72d1167",
        "colab": {
          "base_uri": "https://localhost:8080/",
          "height": 369
        }
      },
      "cell_type": "code",
      "source": [
        "from sklearn.ensemble import GradientBoostingRegressor\n",
        "from sklearn.model_selection import cross_validate\n",
        "\n",
        "gbrt=GradientBoostingRegressor(n_estimators=1200)\n",
        "cv_scores = cross_validate(gbrt,\n",
        "                            X_train,\n",
        "                            y_train,\n",
        "                            cv=5,\n",
        "                            n_jobs=-1,\n",
        "                            verbose=1,\n",
        "                            scoring=('r2',\n",
        "                                     'neg_mean_squared_error',\n",
        "                                     'neg_mean_absolute_error'\n",
        "                                    )\n",
        "                           )\n",
        "\n",
        "RMSE_scores = [np.sqrt(-1*x) for x in cv_scores['test_neg_mean_squared_error']]\n",
        "print('RMSE SCORES: ')\n",
        "print(\"scores : \", RMSE_scores)\n",
        "print(\"mean score : \", np.mean(RMSE_scores))\n",
        "print(\"std of score : \", np.std(RMSE_scores))\n",
        "print(\"*** \\n\")\n",
        "\n",
        "MAE_scores = [-1*x for x in cv_scores['test_neg_mean_absolute_error']]\n",
        "print('MAE SCORES: ')\n",
        "print(\"scores : \", MAE_scores)\n",
        "print(\"mean score : \", np.mean(MAE_scores))\n",
        "print(\"std of score : \", np.std(MAE_scores))\n",
        "print(\"*** \\n\")\n",
        "\n",
        "R2_scores = [x for x in cv_scores['test_r2']]\n",
        "print('R2 SCORES: ')\n",
        "print(\"scores : \", R2_scores)\n",
        "print(\"mean score : \", np.mean(R2_scores))\n",
        "print(\"std of score : \", np.std(R2_scores))\n",
        "print(\"*** \\n\")\n",
        "\n"
      ],
      "execution_count": 0,
      "outputs": [
        {
          "output_type": "stream",
          "text": [
            "[Parallel(n_jobs=-1)]: Using backend LokyBackend with 2 concurrent workers.\n"
          ],
          "name": "stderr"
        },
        {
          "output_type": "stream",
          "text": [
            "RMSE SCORES: \n",
            "scores :  [1.6357666571303213, 1.6783677964150685, 1.7007269114580084, 1.7064788461821214, 1.5458119901616856]\n",
            "mean score :  1.653430440269441\n",
            "std of score :  0.05927343642253695\n",
            "*** \n",
            "\n",
            "MAE SCORES: \n",
            "scores :  [1.0580081902627156, 1.0924296587616849, 1.1374271945619485, 1.120014759336326, 1.0076458444439893]\n",
            "mean score :  1.083105129473333\n",
            "std of score :  0.04631223258156623\n",
            "*** \n",
            "\n",
            "R2 SCORES: \n",
            "scores :  [0.7661684296745983, 0.7592304386307097, 0.7591569480001092, 0.7508429720172429, 0.7900681225151075]\n",
            "mean score :  0.7650933821675536\n",
            "std of score :  0.013398379973435872\n",
            "*** \n",
            "\n"
          ],
          "name": "stdout"
        },
        {
          "output_type": "stream",
          "text": [
            "[Parallel(n_jobs=-1)]: Done   5 out of   5 | elapsed: 14.4min finished\n"
          ],
          "name": "stderr"
        }
      ]
    },
    {
      "metadata": {
        "id": "7B3DDcxKLqiD",
        "colab_type": "text"
      },
      "cell_type": "markdown",
      "source": [
        "### Good, the simple GBRT model with no hyperameter opimization does alright\n",
        "\n",
        "# Now let's try some neural network approaches with pytorch and fastai:"
      ]
    },
    {
      "metadata": {
        "id": "DQLQyHOWG_7x",
        "colab_type": "code",
        "colab": {}
      },
      "cell_type": "code",
      "source": [
        "X_train, y_train, X_valid, y_valid, X_test, y_test = \\\n",
        "map(\n",
        "  partial(torch.tensor, dtype=torch.float),\n",
        "  (X_train, y_train, X_valid, y_valid, X_test, y_test)\n",
        ")"
      ],
      "execution_count": 0,
      "outputs": []
    },
    {
      "metadata": {
        "id": "xSk7P3RqG__Z",
        "colab_type": "code",
        "colab": {}
      },
      "cell_type": "code",
      "source": [
        "bs = 64\n",
        "train_ds = TensorDataset(X_train, y_train)\n",
        "valid_ds = TensorDataset(X_valid, y_valid)\n",
        "data = DataBunch.create(train_ds, valid_ds, bs=bs)"
      ],
      "execution_count": 0,
      "outputs": []
    },
    {
      "metadata": {
        "id": "4hjvrt3SM5bB",
        "colab_type": "text"
      },
      "cell_type": "markdown",
      "source": [
        "### First create a really simple architecture with 2 hidden layers (256 nodes each). I'll also add the capability for some dropout because that is what seemed to work with Deepchem.\n",
        "\n",
        "### I was able to get pretty good results with this neural net and Deepchem, also another paper mentioned good results (slightly better than the GBRT) with a neural net in Matlab of similar architecture"
      ]
    },
    {
      "metadata": {
        "id": "ox2hXfHhHACx",
        "colab_type": "code",
        "colab": {}
      },
      "cell_type": "code",
      "source": [
        "import torch.nn as nn\n",
        "import torch.nn.functional as F\n",
        "\n",
        "class Simple_DNN(nn.Module):\n",
        "  def __init__(self, num_features):\n",
        "    super(Simple_DNN, self).__init__()\n",
        "    \n",
        "    # DEFINE CONSTANTS\n",
        "    HIDDEN_DIM = 256\n",
        "    DROPOUT_PCT = 0.0\n",
        "    \n",
        "    # implement two hidden layers\n",
        "    self.fc1 = nn.Linear(num_features, HIDDEN_DIM)\n",
        "    self.fc2 = nn.Linear(HIDDEN_DIM, HIDDEN_DIM)\n",
        "    self.fc3 = nn.Linear(HIDDEN_DIM, HIDDEN_DIM)\n",
        "    self.fc4 = nn.Linear(HIDDEN_DIM, 1)\n",
        "    self.dropout = nn.Dropout(p=DROPOUT_PCT)\n",
        "    \n",
        "  def forward(self, xb):\n",
        "    xb = F.relu(self.fc1(xb))\n",
        "    xb = self.dropout(xb)\n",
        "    xb = F.relu(self.fc2(xb))\n",
        "    xb = self.dropout(xb)\n",
        "    xb = F.relu(self.fc3(xb))\n",
        "    xb = self.fc4(xb)\n",
        "    return xb"
      ],
      "execution_count": 0,
      "outputs": []
    },
    {
      "metadata": {
        "id": "Q1MZ1T0BHAGj",
        "colab_type": "code",
        "colab": {}
      },
      "cell_type": "code",
      "source": [
        "# use fastai for finding the learning rate and the training \n",
        "# start with no dropout\n",
        "learn = Learner(data, Simple_DNN(num_features=2048),\n",
        "                loss_func=nn.MSELoss(),\n",
        "                metrics=[root_mean_squared_error, r2_score])"
      ],
      "execution_count": 0,
      "outputs": []
    },
    {
      "metadata": {
        "id": "Ol7PqBfAOTbK",
        "colab_type": "code",
        "outputId": "a3046871-ac6c-4857-c57f-f94755ee3165",
        "colab": {
          "base_uri": "https://localhost:8080/",
          "height": 314
        }
      },
      "cell_type": "code",
      "source": [
        "learn.lr_find()\n",
        "learn.recorder.plot()"
      ],
      "execution_count": 26,
      "outputs": [
        {
          "output_type": "display_data",
          "data": {
            "text/html": [
              ""
            ],
            "text/plain": [
              "<IPython.core.display.HTML object>"
            ]
          },
          "metadata": {
            "tags": []
          }
        },
        {
          "output_type": "stream",
          "text": [
            "LR Finder is complete, type {learner_name}.recorder.plot() to see the graph.\n",
            "Min numerical gradient: 2.09E-03\n"
          ],
          "name": "stdout"
        },
        {
          "output_type": "display_data",
          "data": {
            "image/png": "[encoded data removed]",
            "text/plain": [
              "<Figure size 432x288 with 1 Axes>"
            ]
          },
          "metadata": {
            "tags": []
          }
        }
      ]
    },
    {
      "metadata": {
        "id": "ScbP_HpTOTea",
        "colab_type": "code",
        "outputId": "3041def6-26f3-47b7-da59-c2b2052daf2f",
        "colab": {
          "base_uri": "https://localhost:8080/",
          "height": 1071
        }
      },
      "cell_type": "code",
      "source": [
        "learn.fit_one_cycle(50, 1e-02)"
      ],
      "execution_count": 27,
      "outputs": [
        {
          "output_type": "display_data",
          "data": {
            "text/html": [
              "Total time: 00:27 <p><table style='width:375px; margin-bottom:10px'>\n",
              "  <tr>\n",
              "    <th>epoch</th>\n",
              "    <th>train_loss</th>\n",
              "    <th>valid_loss</th>\n",
              "    <th>root_mean_squared_error</th>\n",
              "    <th>r2_score</th>\n",
              "  </tr>\n",
              "  <tr>\n",
              "    <th>1</th>\n",
              "    <th>34.967941</th>\n",
              "    <th>19.962160</th>\n",
              "    <th>4.499454</th>\n",
              "    <th>-0.788478</th>\n",
              "  </tr>\n",
              "  <tr>\n",
              "    <th>2</th>\n",
              "    <th>20.212530</th>\n",
              "    <th>12.761299</th>\n",
              "    <th>3.677649</th>\n",
              "    <th>-0.190579</th>\n",
              "  </tr>\n",
              "  <tr>\n",
              "    <th>3</th>\n",
              "    <th>15.415260</th>\n",
              "    <th>12.576256</th>\n",
              "    <th>3.640672</th>\n",
              "    <th>-0.168179</th>\n",
              "  </tr>\n",
              "  <tr>\n",
              "    <th>4</th>\n",
              "    <th>13.370807</th>\n",
              "    <th>11.938014</th>\n",
              "    <th>3.507845</th>\n",
              "    <th>-0.083796</th>\n",
              "  </tr>\n",
              "  <tr>\n",
              "    <th>5</th>\n",
              "    <th>12.672885</th>\n",
              "    <th>12.503288</th>\n",
              "    <th>3.558881</th>\n",
              "    <th>-0.117366</th>\n",
              "  </tr>\n",
              "  <tr>\n",
              "    <th>6</th>\n",
              "    <th>12.474814</th>\n",
              "    <th>13.612841</th>\n",
              "    <th>3.692712</th>\n",
              "    <th>-0.200505</th>\n",
              "  </tr>\n",
              "  <tr>\n",
              "    <th>7</th>\n",
              "    <th>12.832318</th>\n",
              "    <th>17.828043</th>\n",
              "    <th>4.238615</th>\n",
              "    <th>-0.583118</th>\n",
              "  </tr>\n",
              "  <tr>\n",
              "    <th>8</th>\n",
              "    <th>13.128378</th>\n",
              "    <th>12.223051</th>\n",
              "    <th>3.480092</th>\n",
              "    <th>-0.066295</th>\n",
              "  </tr>\n",
              "  <tr>\n",
              "    <th>9</th>\n",
              "    <th>12.744902</th>\n",
              "    <th>14.078045</th>\n",
              "    <th>3.739795</th>\n",
              "    <th>-0.230882</th>\n",
              "  </tr>\n",
              "  <tr>\n",
              "    <th>10</th>\n",
              "    <th>12.562155</th>\n",
              "    <th>12.075440</th>\n",
              "    <th>3.521306</th>\n",
              "    <th>-0.091246</th>\n",
              "  </tr>\n",
              "  <tr>\n",
              "    <th>11</th>\n",
              "    <th>12.337451</th>\n",
              "    <th>14.215128</th>\n",
              "    <th>3.790017</th>\n",
              "    <th>-0.264604</th>\n",
              "  </tr>\n",
              "  <tr>\n",
              "    <th>12</th>\n",
              "    <th>12.405886</th>\n",
              "    <th>12.229110</th>\n",
              "    <th>3.523498</th>\n",
              "    <th>-0.092875</th>\n",
              "  </tr>\n",
              "  <tr>\n",
              "    <th>13</th>\n",
              "    <th>12.215696</th>\n",
              "    <th>14.096144</th>\n",
              "    <th>3.835119</th>\n",
              "    <th>-0.299979</th>\n",
              "  </tr>\n",
              "  <tr>\n",
              "    <th>14</th>\n",
              "    <th>12.168563</th>\n",
              "    <th>11.911343</th>\n",
              "    <th>3.443898</th>\n",
              "    <th>-0.043802</th>\n",
              "  </tr>\n",
              "  <tr>\n",
              "    <th>15</th>\n",
              "    <th>12.175001</th>\n",
              "    <th>12.475857</th>\n",
              "    <th>3.503437</th>\n",
              "    <th>-0.080609</th>\n",
              "  </tr>\n",
              "  <tr>\n",
              "    <th>16</th>\n",
              "    <th>11.970737</th>\n",
              "    <th>11.531846</th>\n",
              "    <th>3.387138</th>\n",
              "    <th>-0.010720</th>\n",
              "  </tr>\n",
              "  <tr>\n",
              "    <th>17</th>\n",
              "    <th>11.970167</th>\n",
              "    <th>11.639338</th>\n",
              "    <th>3.392618</th>\n",
              "    <th>-0.013987</th>\n",
              "  </tr>\n",
              "  <tr>\n",
              "    <th>18</th>\n",
              "    <th>11.894673</th>\n",
              "    <th>11.559292</th>\n",
              "    <th>3.393082</th>\n",
              "    <th>-0.013462</th>\n",
              "  </tr>\n",
              "  <tr>\n",
              "    <th>19</th>\n",
              "    <th>11.986527</th>\n",
              "    <th>12.371744</th>\n",
              "    <th>3.504789</th>\n",
              "    <th>-0.081354</th>\n",
              "  </tr>\n",
              "  <tr>\n",
              "    <th>20</th>\n",
              "    <th>11.898314</th>\n",
              "    <th>11.702864</th>\n",
              "    <th>3.415548</th>\n",
              "    <th>-0.026855</th>\n",
              "  </tr>\n",
              "  <tr>\n",
              "    <th>21</th>\n",
              "    <th>11.887637</th>\n",
              "    <th>11.663688</th>\n",
              "    <th>3.406719</th>\n",
              "    <th>-0.021510</th>\n",
              "  </tr>\n",
              "  <tr>\n",
              "    <th>22</th>\n",
              "    <th>11.866191</th>\n",
              "    <th>11.986476</th>\n",
              "    <th>3.453440</th>\n",
              "    <th>-0.049862</th>\n",
              "  </tr>\n",
              "  <tr>\n",
              "    <th>23</th>\n",
              "    <th>11.779591</th>\n",
              "    <th>11.481475</th>\n",
              "    <th>3.385120</th>\n",
              "    <th>-0.008730</th>\n",
              "  </tr>\n",
              "  <tr>\n",
              "    <th>24</th>\n",
              "    <th>11.869268</th>\n",
              "    <th>12.361238</th>\n",
              "    <th>3.509233</th>\n",
              "    <th>-0.084126</th>\n",
              "  </tr>\n",
              "  <tr>\n",
              "    <th>25</th>\n",
              "    <th>11.899075</th>\n",
              "    <th>11.610145</th>\n",
              "    <th>3.400694</th>\n",
              "    <th>-0.018013</th>\n",
              "  </tr>\n",
              "  <tr>\n",
              "    <th>26</th>\n",
              "    <th>11.768769</th>\n",
              "    <th>11.471331</th>\n",
              "    <th>3.378924</th>\n",
              "    <th>-0.005330</th>\n",
              "  </tr>\n",
              "  <tr>\n",
              "    <th>27</th>\n",
              "    <th>11.713430</th>\n",
              "    <th>11.487182</th>\n",
              "    <th>3.381593</th>\n",
              "    <th>-0.006697</th>\n",
              "  </tr>\n",
              "  <tr>\n",
              "    <th>28</th>\n",
              "    <th>11.666079</th>\n",
              "    <th>11.633002</th>\n",
              "    <th>3.396785</th>\n",
              "    <th>-0.016342</th>\n",
              "  </tr>\n",
              "  <tr>\n",
              "    <th>29</th>\n",
              "    <th>11.639597</th>\n",
              "    <th>11.707839</th>\n",
              "    <th>3.412508</th>\n",
              "    <th>-0.024982</th>\n",
              "  </tr>\n",
              "  <tr>\n",
              "    <th>30</th>\n",
              "    <th>11.689829</th>\n",
              "    <th>11.910755</th>\n",
              "    <th>3.443980</th>\n",
              "    <th>-0.044065</th>\n",
              "  </tr>\n",
              "  <tr>\n",
              "    <th>31</th>\n",
              "    <th>11.879622</th>\n",
              "    <th>11.476914</th>\n",
              "    <th>3.382380</th>\n",
              "    <th>-0.007376</th>\n",
              "  </tr>\n",
              "  <tr>\n",
              "    <th>32</th>\n",
              "    <th>11.780796</th>\n",
              "    <th>11.623489</th>\n",
              "    <th>3.408010</th>\n",
              "    <th>-0.023286</th>\n",
              "  </tr>\n",
              "  <tr>\n",
              "    <th>33</th>\n",
              "    <th>11.840078</th>\n",
              "    <th>11.548915</th>\n",
              "    <th>3.391911</th>\n",
              "    <th>-0.012800</th>\n",
              "  </tr>\n",
              "  <tr>\n",
              "    <th>34</th>\n",
              "    <th>11.826829</th>\n",
              "    <th>11.729598</th>\n",
              "    <th>3.418996</th>\n",
              "    <th>-0.028974</th>\n",
              "  </tr>\n",
              "  <tr>\n",
              "    <th>35</th>\n",
              "    <th>11.725624</th>\n",
              "    <th>11.776390</th>\n",
              "    <th>3.425915</th>\n",
              "    <th>-0.033119</th>\n",
              "  </tr>\n",
              "  <tr>\n",
              "    <th>36</th>\n",
              "    <th>11.792197</th>\n",
              "    <th>11.471674</th>\n",
              "    <th>3.379902</th>\n",
              "    <th>-0.005860</th>\n",
              "  </tr>\n",
              "  <tr>\n",
              "    <th>37</th>\n",
              "    <th>11.759531</th>\n",
              "    <th>11.508704</th>\n",
              "    <th>3.387030</th>\n",
              "    <th>-0.009971</th>\n",
              "  </tr>\n",
              "  <tr>\n",
              "    <th>38</th>\n",
              "    <th>11.744648</th>\n",
              "    <th>11.472009</th>\n",
              "    <th>3.381655</th>\n",
              "    <th>-0.006852</th>\n",
              "  </tr>\n",
              "  <tr>\n",
              "    <th>39</th>\n",
              "    <th>11.790628</th>\n",
              "    <th>11.528793</th>\n",
              "    <th>3.388500</th>\n",
              "    <th>-0.010778</th>\n",
              "  </tr>\n",
              "  <tr>\n",
              "    <th>40</th>\n",
              "    <th>11.818300</th>\n",
              "    <th>11.497678</th>\n",
              "    <th>3.382370</th>\n",
              "    <th>-0.007150</th>\n",
              "  </tr>\n",
              "  <tr>\n",
              "    <th>41</th>\n",
              "    <th>11.789838</th>\n",
              "    <th>11.603049</th>\n",
              "    <th>3.397700</th>\n",
              "    <th>-0.016182</th>\n",
              "  </tr>\n",
              "  <tr>\n",
              "    <th>42</th>\n",
              "    <th>11.825253</th>\n",
              "    <th>11.569363</th>\n",
              "    <th>3.393724</th>\n",
              "    <th>-0.013833</th>\n",
              "  </tr>\n",
              "  <tr>\n",
              "    <th>43</th>\n",
              "    <th>11.695164</th>\n",
              "    <th>11.554639</th>\n",
              "    <th>3.389822</th>\n",
              "    <th>-0.011500</th>\n",
              "  </tr>\n",
              "  <tr>\n",
              "    <th>44</th>\n",
              "    <th>11.698542</th>\n",
              "    <th>11.539536</th>\n",
              "    <th>3.388256</th>\n",
              "    <th>-0.010585</th>\n",
              "  </tr>\n",
              "  <tr>\n",
              "    <th>45</th>\n",
              "    <th>11.673050</th>\n",
              "    <th>11.543466</th>\n",
              "    <th>3.388558</th>\n",
              "    <th>-0.010757</th>\n",
              "  </tr>\n",
              "  <tr>\n",
              "    <th>46</th>\n",
              "    <th>11.664067</th>\n",
              "    <th>11.498206</th>\n",
              "    <th>3.382133</th>\n",
              "    <th>-0.006991</th>\n",
              "  </tr>\n",
              "  <tr>\n",
              "    <th>47</th>\n",
              "    <th>11.626120</th>\n",
              "    <th>11.496741</th>\n",
              "    <th>3.381735</th>\n",
              "    <th>-0.006756</th>\n",
              "  </tr>\n",
              "  <tr>\n",
              "    <th>48</th>\n",
              "    <th>11.634135</th>\n",
              "    <th>11.511920</th>\n",
              "    <th>3.384022</th>\n",
              "    <th>-0.008092</th>\n",
              "  </tr>\n",
              "  <tr>\n",
              "    <th>49</th>\n",
              "    <th>11.654181</th>\n",
              "    <th>11.507063</th>\n",
              "    <th>3.383414</th>\n",
              "    <th>-0.007739</th>\n",
              "  </tr>\n",
              "  <tr>\n",
              "    <th>50</th>\n",
              "    <th>11.650292</th>\n",
              "    <th>11.506439</th>\n",
              "    <th>3.383331</th>\n",
              "    <th>-0.007691</th>\n",
              "  </tr>\n",
              "</table>\n"
            ],
            "text/plain": [
              "<IPython.core.display.HTML object>"
            ]
          },
          "metadata": {
            "tags": []
          }
        }
      ]
    },
    {
      "metadata": {
        "id": "zd2dlJSRPWln",
        "colab_type": "text"
      },
      "cell_type": "markdown",
      "source": [
        "### It's not even overfitting (and there is no dropout). Not getting above R2 score of 0 is really bad.\n",
        "\n",
        "### Let's see if we can at least get it to overfit with a small number of samples:"
      ]
    },
    {
      "metadata": {
        "id": "jDba9jyzOTha",
        "colab_type": "code",
        "colab": {}
      },
      "cell_type": "code",
      "source": [
        "small_train_ds = TensorDataset(X_train[0:5], y_train[0:5])\n",
        "small_valid_ds = TensorDataset(X_valid[0:5], y_valid[0:5])\n",
        "small_data = DataBunch.create(small_train_ds, small_valid_ds)"
      ],
      "execution_count": 0,
      "outputs": []
    },
    {
      "metadata": {
        "id": "OmceJnxzOTka",
        "colab_type": "code",
        "colab": {}
      },
      "cell_type": "code",
      "source": [
        "# use fastai for finding the learning rate and the training \n",
        "# start with no dropout\n",
        "learn_small_data_test = Learner(small_data, Simple_DNN(num_features=2048),\n",
        "                loss_func=nn.MSELoss(),\n",
        "                metrics=root_mean_squared_error)"
      ],
      "execution_count": 0,
      "outputs": []
    },
    {
      "metadata": {
        "id": "ttjuNAEwOTnj",
        "colab_type": "code",
        "outputId": "04179f87-e3d7-4309-e632-07ed420ac7df",
        "colab": {
          "base_uri": "https://localhost:8080/",
          "height": 324
        }
      },
      "cell_type": "code",
      "source": [
        "learn_small_data_test.lr_find()\n",
        "learn_small_data_test.recorder.plot()"
      ],
      "execution_count": 0,
      "outputs": [
        {
          "output_type": "error",
          "ename": "ZeroDivisionError",
          "evalue": "ignored",
          "traceback": [
            "\u001b[0;31m---------------------------------------------------------------------------\u001b[0m",
            "\u001b[0;31mZeroDivisionError\u001b[0m                         Traceback (most recent call last)",
            "\u001b[0;32m<ipython-input-20-a5f4c9365d3d>\u001b[0m in \u001b[0;36m<module>\u001b[0;34m()\u001b[0m\n\u001b[0;32m----> 1\u001b[0;31m \u001b[0mlearn_small_data_test\u001b[0m\u001b[0;34m.\u001b[0m\u001b[0mlr_find\u001b[0m\u001b[0;34m(\u001b[0m\u001b[0;34m)\u001b[0m\u001b[0;34m\u001b[0m\u001b[0;34m\u001b[0m\u001b[0m\n\u001b[0m\u001b[1;32m      2\u001b[0m \u001b[0mlearn_small_data_test\u001b[0m\u001b[0;34m.\u001b[0m\u001b[0mrecorder\u001b[0m\u001b[0;34m.\u001b[0m\u001b[0mplot\u001b[0m\u001b[0;34m(\u001b[0m\u001b[0;34m)\u001b[0m\u001b[0;34m\u001b[0m\u001b[0;34m\u001b[0m\u001b[0m\n",
            "\u001b[0;32m/usr/local/lib/python3.6/dist-packages/fastai/train.py\u001b[0m in \u001b[0;36mlr_find\u001b[0;34m(learn, start_lr, end_lr, num_it, stop_div, wd)\u001b[0m\n\u001b[1;32m     29\u001b[0m     \u001b[0mend_lr\u001b[0m \u001b[0;34m=\u001b[0m \u001b[0mnp\u001b[0m\u001b[0;34m.\u001b[0m\u001b[0marray\u001b[0m\u001b[0;34m(\u001b[0m\u001b[0mend_lr\u001b[0m\u001b[0;34m)\u001b[0m \u001b[0;32mif\u001b[0m \u001b[0mis_listy\u001b[0m\u001b[0;34m(\u001b[0m\u001b[0mend_lr\u001b[0m\u001b[0;34m)\u001b[0m \u001b[0;32melse\u001b[0m \u001b[0mend_lr\u001b[0m\u001b[0;34m\u001b[0m\u001b[0;34m\u001b[0m\u001b[0m\n\u001b[1;32m     30\u001b[0m     \u001b[0mcb\u001b[0m \u001b[0;34m=\u001b[0m \u001b[0mLRFinder\u001b[0m\u001b[0;34m(\u001b[0m\u001b[0mlearn\u001b[0m\u001b[0;34m,\u001b[0m \u001b[0mstart_lr\u001b[0m\u001b[0;34m,\u001b[0m \u001b[0mend_lr\u001b[0m\u001b[0;34m,\u001b[0m \u001b[0mnum_it\u001b[0m\u001b[0;34m,\u001b[0m \u001b[0mstop_div\u001b[0m\u001b[0;34m)\u001b[0m\u001b[0;34m\u001b[0m\u001b[0;34m\u001b[0m\u001b[0m\n\u001b[0;32m---> 31\u001b[0;31m     \u001b[0ma\u001b[0m \u001b[0;34m=\u001b[0m \u001b[0mint\u001b[0m\u001b[0;34m(\u001b[0m\u001b[0mnp\u001b[0m\u001b[0;34m.\u001b[0m\u001b[0mceil\u001b[0m\u001b[0;34m(\u001b[0m\u001b[0mnum_it\u001b[0m\u001b[0;34m/\u001b[0m\u001b[0mlen\u001b[0m\u001b[0;34m(\u001b[0m\u001b[0mlearn\u001b[0m\u001b[0;34m.\u001b[0m\u001b[0mdata\u001b[0m\u001b[0;34m.\u001b[0m\u001b[0mtrain_dl\u001b[0m\u001b[0;34m)\u001b[0m\u001b[0;34m)\u001b[0m\u001b[0;34m)\u001b[0m\u001b[0;34m\u001b[0m\u001b[0;34m\u001b[0m\u001b[0m\n\u001b[0m\u001b[1;32m     32\u001b[0m     \u001b[0mlearn\u001b[0m\u001b[0;34m.\u001b[0m\u001b[0mfit\u001b[0m\u001b[0;34m(\u001b[0m\u001b[0ma\u001b[0m\u001b[0;34m,\u001b[0m \u001b[0mstart_lr\u001b[0m\u001b[0;34m,\u001b[0m \u001b[0mcallbacks\u001b[0m\u001b[0;34m=\u001b[0m\u001b[0;34m[\u001b[0m\u001b[0mcb\u001b[0m\u001b[0;34m]\u001b[0m\u001b[0;34m,\u001b[0m \u001b[0mwd\u001b[0m\u001b[0;34m=\u001b[0m\u001b[0mwd\u001b[0m\u001b[0;34m)\u001b[0m\u001b[0;34m\u001b[0m\u001b[0;34m\u001b[0m\u001b[0m\n\u001b[1;32m     33\u001b[0m \u001b[0;34m\u001b[0m\u001b[0m\n",
            "\u001b[0;31mZeroDivisionError\u001b[0m: division by zero"
          ]
        }
      ]
    },
    {
      "metadata": {
        "id": "5MSP0OB01UhR",
        "colab_type": "text"
      },
      "cell_type": "markdown",
      "source": [
        "### I can't get it to work with any batch size on this small number of samples!\n",
        "\n",
        "### Ok, I will try another way based on Jeremy's nice pytorch tutorial https://pytorch.org/tutorials/beginner/nn_tutorial.html"
      ]
    },
    {
      "metadata": {
        "id": "0iSLPJlzTL_C",
        "colab_type": "code",
        "colab": {}
      },
      "cell_type": "code",
      "source": [
        "from torch import optim\n",
        "\n",
        "# creat function to fetch the model and optimizer\n",
        "def get_model(num_features, lr, GPU=False, GPU_dev=None):\n",
        "  if GPU:\n",
        "    model = Simple_DNN(num_features)\n",
        "    return model.to(GPU_dev), optim.SGD(model.parameters(), lr=lr)\n",
        "  else:\n",
        "    model = Simple_DNN(num_features)\n",
        "    return model, optim.SGD(model.parameters(), lr=lr)\n",
        "\n",
        "# function to calculate the loss, and do opt step in training\n",
        "def loss_batch(model, loss_func, xb, yb, opt=None):\n",
        "  loss = loss_func(model(xb), yb)\n",
        "  \n",
        "  if opt is not None:\n",
        "    loss.backward()\n",
        "    opt.step()\n",
        "    opt.zero_grad()\n",
        "    \n",
        "  return loss.item(), len(xb)\n",
        "\n",
        "# function to fit the model for number of epochs given loss func\n",
        "def fit(epochs, model, loss_func, opt, train_dl, valid_dl):\n",
        "  for epoch in range(epochs):\n",
        "    model.train()\n",
        "    for xb, yb in train_dl:\n",
        "      loss_batch(model, loss_func, xb, yb, opt)\n",
        "      \n",
        "    model.eval()\n",
        "    with torch.no_grad():\n",
        "      train_losses, train_nums  = zip(\n",
        "        *[loss_batch(model, loss_func, xb, yb) for xb, yb in train_dl]\n",
        "      )\n",
        "      trn_loss = ( \n",
        "          np.sum(np.multiply(train_losses, train_nums)) / np.sum(train_nums)\n",
        "      )\n",
        "      \n",
        "      valid_losses, valid_nums  = zip(\n",
        "        *[loss_batch(model, loss_func, xb, yb) for xb, yb in valid_dl]\n",
        "      )\n",
        "      val_loss = (\n",
        "          np.sum(np.multiply(valid_losses, valid_nums)) / np.sum(valid_nums)\n",
        "      )\n",
        "      \n",
        "      if epoch % 5 == 0:\n",
        "        print('epoch: ', epoch, 'train_loss: ', trn_loss, 'valid_loss: ',val_loss)"
      ],
      "execution_count": 0,
      "outputs": []
    },
    {
      "metadata": {
        "id": "v-WcHRMtAzfd",
        "colab_type": "code",
        "colab": {}
      },
      "cell_type": "code",
      "source": [
        "# creating custom dataloader to use with GPU\n",
        "class GPUDataLoader:\n",
        "  def __init__(self, dl, dev):\n",
        "    self.dl = dl\n",
        "    self.dev = dev\n",
        "    \n",
        "  def __len__(self):\n",
        "    return len(self.dl)\n",
        "  \n",
        "  def __iter__(self):\n",
        "    batches = iter(self.dl)\n",
        "    for b in batches:\n",
        "      yield(self._move_to_GPU(*b))\n",
        "      \n",
        "  def _move_to_GPU(self, X, y):\n",
        "    return X.to(self.dev), y.to(self.dev)\n",
        "\n",
        "# function that fetches data either on/off GPU\n",
        "def get_data(train_ds, valid_ds, bs, GPU=False, GPU_dev=None):\n",
        "  if GPU and GPU_dev is not None:\n",
        "    # train_dl = DataLoader(train_ds, batch_size=bs, shuffle=True),\n",
        "    # valid_dl = DataLoader(valid_ds, batch_size=bs*2)\n",
        "    return (\n",
        "      GPUDataLoader(DataLoader(train_ds, batch_size=bs, shuffle=True), GPU_dev),\n",
        "      GPUDataLoader(DataLoader(valid_ds, batch_size=bs*2), GPU_dev)\n",
        "    )\n",
        "  else:\n",
        "    return (\n",
        "      DataLoader(train_ds, batch_size=bs, shuffle=True),\n",
        "      DataLoader(valid_ds, batch_size=bs*2)\n",
        "    )"
      ],
      "execution_count": 0,
      "outputs": []
    },
    {
      "metadata": {
        "id": "oNDuoiZWG8NU",
        "colab_type": "code",
        "colab": {}
      },
      "cell_type": "code",
      "source": [
        "small_train_ds = TensorDataset(X_train[0:5], y_train[0:5])\n",
        "small_valid_ds = TensorDataset(X_valid[0:5], y_valid[0:5])"
      ],
      "execution_count": 0,
      "outputs": []
    },
    {
      "metadata": {
        "id": "KRhDkJahAzqA",
        "colab_type": "code",
        "outputId": "7cecdcc8-3cd6-46e7-e2f5-89dbc0fa7dab",
        "colab": {
          "base_uri": "https://localhost:8080/",
          "height": 190
        }
      },
      "cell_type": "code",
      "source": [
        "# Finally, train the model!\n",
        "\n",
        "dev = torch.device('cuda') if torch.cuda.is_available() else torch.device('cpu')\n",
        "\n",
        "epochs = 50\n",
        "bs = 64\n",
        "lr = 0.1\n",
        "loss_func = nn.MSELoss()\n",
        "\n",
        "# use the small data\n",
        "small_train_dl, small_valid_dl = get_data(small_train_ds, small_valid_ds,\n",
        "                              bs, GPU=True, GPU_dev=dev)\n",
        "\n",
        "model, opt = get_model(num_features=2048, lr=lr, GPU=True, GPU_dev=dev)\n",
        "\n",
        "fit(epochs, model, loss_func, opt, small_train_dl, small_valid_dl)\n"
      ],
      "execution_count": 0,
      "outputs": [
        {
          "output_type": "stream",
          "text": [
            "epoch:  0 train_loss:  28.1943416595459 valid_loss:  25.76837921142578\n",
            "epoch:  5 train_loss:  14.899280548095703 valid_loss:  8.270212173461914\n",
            "epoch:  10 train_loss:  13.446062088012695 valid_loss:  4.915328502655029\n",
            "epoch:  15 train_loss:  13.446062088012695 valid_loss:  4.915293216705322\n",
            "epoch:  20 train_loss:  13.446062088012695 valid_loss:  4.915318012237549\n",
            "epoch:  25 train_loss:  13.446061134338379 valid_loss:  4.915342807769775\n",
            "epoch:  30 train_loss:  13.446061134338379 valid_loss:  4.9153666496276855\n",
            "epoch:  35 train_loss:  13.446061134338379 valid_loss:  4.9153900146484375\n",
            "epoch:  40 train_loss:  13.446061134338379 valid_loss:  4.915412425994873\n",
            "epoch:  45 train_loss:  13.446061134338379 valid_loss:  4.91543436050415\n"
          ],
          "name": "stdout"
        }
      ]
    },
    {
      "metadata": {
        "id": "EpqNn0fPI1M3",
        "colab_type": "text"
      },
      "cell_type": "markdown",
      "source": [
        "### Why does that train loss converge, but not go to 0!!!\n",
        "\n",
        "### Let's try with one sample!"
      ]
    },
    {
      "metadata": {
        "id": "B9Y9iKmVI_Bi",
        "colab_type": "code",
        "colab": {}
      },
      "cell_type": "code",
      "source": [
        "one_sample_train_ds = TensorDataset(X_train[0,:].reshape(1,-1), y_train[[0]])\n",
        "one_sample_valid_ds = TensorDataset(X_valid[0,:].reshape(1,-1), y_valid[[0]])"
      ],
      "execution_count": 0,
      "outputs": []
    },
    {
      "metadata": {
        "id": "3Vp_IvfdI_JW",
        "colab_type": "code",
        "outputId": "82621809-631f-4049-aa0c-2ae158ffaa9c",
        "colab": {
          "base_uri": "https://localhost:8080/",
          "height": 190
        }
      },
      "cell_type": "code",
      "source": [
        "# Train the model with just one sample!\n",
        "\n",
        "dev = torch.device('cuda') if torch.cuda.is_available() else torch.device('cpu')\n",
        "\n",
        "epochs = 50\n",
        "bs = 64\n",
        "lr = 0.1\n",
        "loss_func = nn.MSELoss()\n",
        "\n",
        "# use the small data\n",
        "small_train_dl, small_valid_dl = get_data(one_sample_train_ds, one_sample_valid_ds,\n",
        "                              bs, GPU=True, GPU_dev=dev)\n",
        "\n",
        "model, opt = get_model(num_features=2048, lr=lr, GPU=True, GPU_dev=dev)\n",
        "\n",
        "fit(epochs, model, loss_func, opt, small_train_dl, small_valid_dl)"
      ],
      "execution_count": 0,
      "outputs": [
        {
          "output_type": "stream",
          "text": [
            "epoch:  0 train_loss:  38.313716888427734 valid_loss:  5.290582180023193\n",
            "epoch:  5 train_loss:  108.30901336669922 valid_loss:  41.19266128540039\n",
            "epoch:  10 train_loss:  5091.599609375 valid_loss:  4538.103515625\n",
            "epoch:  15 train_loss:  546.7064819335938 valid_loss:  376.0401306152344\n",
            "epoch:  20 train_loss:  58.7021484375 valid_loss:  13.481624603271484\n",
            "epoch:  25 train_loss:  6.303093433380127 valid_loss:  2.1886346340179443\n",
            "epoch:  30 train_loss:  0.6767898201942444 valid_loss:  10.031963348388672\n",
            "epoch:  35 train_loss:  0.07266971468925476 valid_loss:  13.841573715209961\n",
            "epoch:  40 train_loss:  0.007802910171449184 valid_loss:  15.222994804382324\n",
            "epoch:  45 train_loss:  0.0008378112688660622 valid_loss:  15.68995475769043\n"
          ],
          "name": "stdout"
        }
      ]
    },
    {
      "metadata": {
        "id": "dkB9HeA7LVQ4",
        "colab_type": "text"
      },
      "cell_type": "markdown",
      "source": [
        "### Well at least that overfit correctly\n",
        "\n",
        "### Let's see If I can get anywhere better using the fastai tabular learner"
      ]
    },
    {
      "metadata": {
        "id": "jT7e3im6SJho",
        "colab_type": "code",
        "colab": {}
      },
      "cell_type": "code",
      "source": [
        "# Note that this isn't quite a fair comparison because I am not using \n",
        "# the same train/valid/test split! But I am just trying to get something working\n",
        "data = (TabularList.from_df(pka_df, path='.', \n",
        "                            cont_names=list(pka_df.columns)[1:])\n",
        "        .split_by_idx(valid_idx=range(3000,pka_df.shape[0]))\n",
        "        .label_from_df(cols='pka')\n",
        "        .databunch()\n",
        "       )"
      ],
      "execution_count": 0,
      "outputs": []
    },
    {
      "metadata": {
        "id": "8FNqvTkuSJlP",
        "colab_type": "code",
        "colab": {}
      },
      "cell_type": "code",
      "source": [
        "learn = tabular_learner(data,\n",
        "                        layers=[256,256],\n",
        "                        loss_func=nn.MSELoss(),\n",
        "                        metrics=[root_mean_squared_error, r2_score])"
      ],
      "execution_count": 0,
      "outputs": []
    },
    {
      "metadata": {
        "id": "fV-UmAAMSJon",
        "colab_type": "code",
        "outputId": "5badc841-7de9-4aae-f85d-8b12ff97779b",
        "colab": {
          "base_uri": "https://localhost:8080/",
          "height": 314
        }
      },
      "cell_type": "code",
      "source": [
        "learn.lr_find()\n",
        "learn.recorder.plot()"
      ],
      "execution_count": 0,
      "outputs": [
        {
          "output_type": "display_data",
          "data": {
            "text/html": [
              ""
            ],
            "text/plain": [
              "<IPython.core.display.HTML object>"
            ]
          },
          "metadata": {
            "tags": []
          }
        },
        {
          "output_type": "stream",
          "text": [
            "LR Finder is complete, type {learner_name}.recorder.plot() to see the graph.\n",
            "Min numerical gradient: 7.59E-07\n"
          ],
          "name": "stdout"
        },
        {
          "output_type": "display_data",
          "data": {
            "image/png": "[encoded data removed]",
            "text/plain": [
              "<Figure size 432x288 with 1 Axes>"
            ]
          },
          "metadata": {
            "tags": []
          }
        }
      ]
    },
    {
      "metadata": {
        "id": "fQ8DY0_ySJr7",
        "colab_type": "code",
        "outputId": "0c0459c2-5d59-407b-cf39-6eb6203aeace",
        "colab": {
          "base_uri": "https://localhost:8080/",
          "height": 177
        }
      },
      "cell_type": "code",
      "source": [
        "learn.fit_one_cycle(5, 1e-02)"
      ],
      "execution_count": 0,
      "outputs": [
        {
          "output_type": "display_data",
          "data": {
            "text/html": [
              "Total time: 00:05 <p><table style='width:375px; margin-bottom:10px'>\n",
              "  <tr>\n",
              "    <th>epoch</th>\n",
              "    <th>train_loss</th>\n",
              "    <th>valid_loss</th>\n",
              "    <th>root_mean_squared_error</th>\n",
              "    <th>r2_score</th>\n",
              "  </tr>\n",
              "  <tr>\n",
              "    <th>1</th>\n",
              "    <th>41.227276</th>\n",
              "    <th>31.417316</th>\n",
              "    <th>5.771024</th>\n",
              "    <th>-1.696110</th>\n",
              "  </tr>\n",
              "  <tr>\n",
              "    <th>2</th>\n",
              "    <th>20.460962</th>\n",
              "    <th>3798.000000</th>\n",
              "    <th>51.169476</th>\n",
              "    <th>-345.601624</th>\n",
              "  </tr>\n",
              "  <tr>\n",
              "    <th>3</th>\n",
              "    <th>14.665569</th>\n",
              "    <th>387016.187500</th>\n",
              "    <th>532.185730</th>\n",
              "    <th>-34736.746094</th>\n",
              "  </tr>\n",
              "  <tr>\n",
              "    <th>4</th>\n",
              "    <th>12.632124</th>\n",
              "    <th>328987.281250</th>\n",
              "    <th>504.026215</th>\n",
              "    <th>-29601.400391</th>\n",
              "  </tr>\n",
              "  <tr>\n",
              "    <th>5</th>\n",
              "    <th>11.935468</th>\n",
              "    <th>448465.343750</th>\n",
              "    <th>571.947083</th>\n",
              "    <th>-40105.644531</th>\n",
              "  </tr>\n",
              "</table>\n"
            ],
            "text/plain": [
              "<IPython.core.display.HTML object>"
            ]
          },
          "metadata": {
            "tags": []
          }
        }
      ]
    },
    {
      "metadata": {
        "id": "yD_6bRrGN89-",
        "colab_type": "text"
      },
      "cell_type": "markdown",
      "source": [
        "### Wow that looks like clear overfitting since the validation loss shoots way up! But the training error is still not even good...\n",
        "\n",
        "### There is only one main difference I can think of; in the Deepchem models I had standardized the pka values before training the neural net. Let's see if that helps at all."
      ]
    },
    {
      "metadata": {
        "id": "tysDGfDKSJyI",
        "colab_type": "code",
        "colab": {}
      },
      "cell_type": "code",
      "source": [
        "# cheating because using all of data for standardization,\n",
        "# but just want something to work!\n",
        "pka_df['std_pka'] = (pka_df['pka'] - pka_df['pka'].mean()) / pka_df['pka'].std()"
      ],
      "execution_count": 0,
      "outputs": []
    },
    {
      "metadata": {
        "id": "pEsCF4z7TqL0",
        "colab_type": "code",
        "outputId": "73cfdb93-94e1-4696-8b30-61881311c56a",
        "colab": {
          "base_uri": "https://localhost:8080/",
          "height": 247
        }
      },
      "cell_type": "code",
      "source": [
        "pka_df.head()"
      ],
      "execution_count": 0,
      "outputs": [
        {
          "output_type": "execute_result",
          "data": {
            "text/html": [
              "<div>\n",
              "<style scoped>\n",
              "    .dataframe tbody tr th:only-of-type {\n",
              "        vertical-align: middle;\n",
              "    }\n",
              "\n",
              "    .dataframe tbody tr th {\n",
              "        vertical-align: top;\n",
              "    }\n",
              "\n",
              "    .dataframe thead th {\n",
              "        text-align: right;\n",
              "    }\n",
              "</style>\n",
              "<table border=\"1\" class=\"dataframe\">\n",
              "  <thead>\n",
              "    <tr style=\"text-align: right;\">\n",
              "      <th></th>\n",
              "      <th>pka</th>\n",
              "      <th>bit_0</th>\n",
              "      <th>bit_1</th>\n",
              "      <th>bit_2</th>\n",
              "      <th>bit_3</th>\n",
              "      <th>bit_4</th>\n",
              "      <th>bit_5</th>\n",
              "      <th>bit_6</th>\n",
              "      <th>bit_7</th>\n",
              "      <th>bit_8</th>\n",
              "      <th>...</th>\n",
              "      <th>bit_2039</th>\n",
              "      <th>bit_2040</th>\n",
              "      <th>bit_2041</th>\n",
              "      <th>bit_2042</th>\n",
              "      <th>bit_2043</th>\n",
              "      <th>bit_2044</th>\n",
              "      <th>bit_2045</th>\n",
              "      <th>bit_2046</th>\n",
              "      <th>bit_2047</th>\n",
              "      <th>std_pka</th>\n",
              "    </tr>\n",
              "  </thead>\n",
              "  <tbody>\n",
              "    <tr>\n",
              "      <th>0</th>\n",
              "      <td>6.35</td>\n",
              "      <td>0.0</td>\n",
              "      <td>0.0</td>\n",
              "      <td>0.0</td>\n",
              "      <td>0.0</td>\n",
              "      <td>0.0</td>\n",
              "      <td>0.0</td>\n",
              "      <td>0.0</td>\n",
              "      <td>0.0</td>\n",
              "      <td>0.0</td>\n",
              "      <td>...</td>\n",
              "      <td>0.0</td>\n",
              "      <td>0.0</td>\n",
              "      <td>0.0</td>\n",
              "      <td>0.0</td>\n",
              "      <td>0.0</td>\n",
              "      <td>0.0</td>\n",
              "      <td>0.0</td>\n",
              "      <td>0.0</td>\n",
              "      <td>0.0</td>\n",
              "      <td>-0.107161</td>\n",
              "    </tr>\n",
              "    <tr>\n",
              "      <th>1</th>\n",
              "      <td>5.76</td>\n",
              "      <td>0.0</td>\n",
              "      <td>0.0</td>\n",
              "      <td>0.0</td>\n",
              "      <td>0.0</td>\n",
              "      <td>0.0</td>\n",
              "      <td>0.0</td>\n",
              "      <td>0.0</td>\n",
              "      <td>0.0</td>\n",
              "      <td>0.0</td>\n",
              "      <td>...</td>\n",
              "      <td>0.0</td>\n",
              "      <td>0.0</td>\n",
              "      <td>0.0</td>\n",
              "      <td>0.0</td>\n",
              "      <td>0.0</td>\n",
              "      <td>0.0</td>\n",
              "      <td>0.0</td>\n",
              "      <td>0.0</td>\n",
              "      <td>0.0</td>\n",
              "      <td>-0.278951</td>\n",
              "    </tr>\n",
              "    <tr>\n",
              "      <th>2</th>\n",
              "      <td>5.82</td>\n",
              "      <td>0.0</td>\n",
              "      <td>0.0</td>\n",
              "      <td>0.0</td>\n",
              "      <td>0.0</td>\n",
              "      <td>0.0</td>\n",
              "      <td>0.0</td>\n",
              "      <td>0.0</td>\n",
              "      <td>0.0</td>\n",
              "      <td>0.0</td>\n",
              "      <td>...</td>\n",
              "      <td>0.0</td>\n",
              "      <td>0.0</td>\n",
              "      <td>0.0</td>\n",
              "      <td>0.0</td>\n",
              "      <td>0.0</td>\n",
              "      <td>0.0</td>\n",
              "      <td>0.0</td>\n",
              "      <td>0.0</td>\n",
              "      <td>0.0</td>\n",
              "      <td>-0.261481</td>\n",
              "    </tr>\n",
              "    <tr>\n",
              "      <th>3</th>\n",
              "      <td>5.80</td>\n",
              "      <td>0.0</td>\n",
              "      <td>0.0</td>\n",
              "      <td>0.0</td>\n",
              "      <td>0.0</td>\n",
              "      <td>0.0</td>\n",
              "      <td>0.0</td>\n",
              "      <td>0.0</td>\n",
              "      <td>0.0</td>\n",
              "      <td>0.0</td>\n",
              "      <td>...</td>\n",
              "      <td>0.0</td>\n",
              "      <td>0.0</td>\n",
              "      <td>0.0</td>\n",
              "      <td>0.0</td>\n",
              "      <td>0.0</td>\n",
              "      <td>0.0</td>\n",
              "      <td>0.0</td>\n",
              "      <td>0.0</td>\n",
              "      <td>0.0</td>\n",
              "      <td>-0.267304</td>\n",
              "    </tr>\n",
              "    <tr>\n",
              "      <th>4</th>\n",
              "      <td>9.43</td>\n",
              "      <td>0.0</td>\n",
              "      <td>0.0</td>\n",
              "      <td>0.0</td>\n",
              "      <td>0.0</td>\n",
              "      <td>0.0</td>\n",
              "      <td>0.0</td>\n",
              "      <td>0.0</td>\n",
              "      <td>0.0</td>\n",
              "      <td>0.0</td>\n",
              "      <td>...</td>\n",
              "      <td>0.0</td>\n",
              "      <td>0.0</td>\n",
              "      <td>0.0</td>\n",
              "      <td>0.0</td>\n",
              "      <td>0.0</td>\n",
              "      <td>0.0</td>\n",
              "      <td>0.0</td>\n",
              "      <td>0.0</td>\n",
              "      <td>0.0</td>\n",
              "      <td>0.789637</td>\n",
              "    </tr>\n",
              "  </tbody>\n",
              "</table>\n",
              "<p>5 rows × 2050 columns</p>\n",
              "</div>"
            ],
            "text/plain": [
              "    pka  bit_0  bit_1  bit_2  bit_3  bit_4  bit_5  bit_6  bit_7  bit_8  ...  \\\n",
              "0  6.35    0.0    0.0    0.0    0.0    0.0    0.0    0.0    0.0    0.0  ...   \n",
              "1  5.76    0.0    0.0    0.0    0.0    0.0    0.0    0.0    0.0    0.0  ...   \n",
              "2  5.82    0.0    0.0    0.0    0.0    0.0    0.0    0.0    0.0    0.0  ...   \n",
              "3  5.80    0.0    0.0    0.0    0.0    0.0    0.0    0.0    0.0    0.0  ...   \n",
              "4  9.43    0.0    0.0    0.0    0.0    0.0    0.0    0.0    0.0    0.0  ...   \n",
              "\n",
              "   bit_2039  bit_2040  bit_2041  bit_2042  bit_2043  bit_2044  bit_2045  \\\n",
              "0       0.0       0.0       0.0       0.0       0.0       0.0       0.0   \n",
              "1       0.0       0.0       0.0       0.0       0.0       0.0       0.0   \n",
              "2       0.0       0.0       0.0       0.0       0.0       0.0       0.0   \n",
              "3       0.0       0.0       0.0       0.0       0.0       0.0       0.0   \n",
              "4       0.0       0.0       0.0       0.0       0.0       0.0       0.0   \n",
              "\n",
              "   bit_2046  bit_2047   std_pka  \n",
              "0       0.0       0.0 -0.107161  \n",
              "1       0.0       0.0 -0.278951  \n",
              "2       0.0       0.0 -0.261481  \n",
              "3       0.0       0.0 -0.267304  \n",
              "4       0.0       0.0  0.789637  \n",
              "\n",
              "[5 rows x 2050 columns]"
            ]
          },
          "metadata": {
            "tags": []
          },
          "execution_count": 37
        }
      ]
    },
    {
      "metadata": {
        "id": "tgXuZsEKSJ1R",
        "colab_type": "code",
        "colab": {}
      },
      "cell_type": "code",
      "source": [
        "# Note that this isn't quite a fair comparison because I am not using \n",
        "# the same train/valid/test split! But I am just trying to get something working\n",
        "data = (TabularList.from_df(pka_df, path='.',\n",
        "                            cont_names=list(pka_df.columns)[1:-1])\n",
        "        .split_by_idx(valid_idx=range(3000,pka_df.shape[0]))\n",
        "        .label_from_df(cols='std_pka')\n",
        "        .databunch()\n",
        "       )"
      ],
      "execution_count": 0,
      "outputs": []
    },
    {
      "metadata": {
        "id": "89-mdwYnT1g1",
        "colab_type": "code",
        "outputId": "3642517f-8a02-4a3d-d1b9-035f132558b3",
        "colab": {
          "base_uri": "https://localhost:8080/",
          "height": 69
        }
      },
      "cell_type": "code",
      "source": [
        "data.train_ds.y"
      ],
      "execution_count": 0,
      "outputs": [
        {
          "output_type": "execute_result",
          "data": {
            "text/plain": [
              "FloatList (3000 items)\n",
              "-0.10716148,-0.27895066,-0.26148057,-0.26730394,0.7896369\n",
              "Path: ."
            ]
          },
          "metadata": {
            "tags": []
          },
          "execution_count": 39
        }
      ]
    },
    {
      "metadata": {
        "id": "zdwSCRzNUBXI",
        "colab_type": "code",
        "colab": {}
      },
      "cell_type": "code",
      "source": [
        "learn = tabular_learner(data,\n",
        "                        layers=[256,256],\n",
        "                        loss_func=nn.MSELoss(),\n",
        "                        metrics=[root_mean_squared_error, r2_score])"
      ],
      "execution_count": 0,
      "outputs": []
    },
    {
      "metadata": {
        "id": "3MOB6Kp3T1kL",
        "colab_type": "code",
        "outputId": "5a3b0ee9-7fa5-408e-bf20-f77293005765",
        "colab": {
          "base_uri": "https://localhost:8080/",
          "height": 314
        }
      },
      "cell_type": "code",
      "source": [
        "learn.lr_find()\n",
        "learn.recorder.plot()"
      ],
      "execution_count": 0,
      "outputs": [
        {
          "output_type": "display_data",
          "data": {
            "text/html": [
              ""
            ],
            "text/plain": [
              "<IPython.core.display.HTML object>"
            ]
          },
          "metadata": {
            "tags": []
          }
        },
        {
          "output_type": "stream",
          "text": [
            "LR Finder is complete, type {learner_name}.recorder.plot() to see the graph.\n",
            "Min numerical gradient: 6.31E-07\n"
          ],
          "name": "stdout"
        },
        {
          "output_type": "display_data",
          "data": {
            "image/png": "[encoded data removed]",
            "text/plain": [
              "<Figure size 432x288 with 1 Axes>"
            ]
          },
          "metadata": {
            "tags": []
          }
        }
      ]
    },
    {
      "metadata": {
        "id": "DE-mnOxOT1nh",
        "colab_type": "code",
        "outputId": "7d624353-c84c-4450-fb43-97ca4a1fdd3d",
        "colab": {
          "base_uri": "https://localhost:8080/",
          "height": 491
        }
      },
      "cell_type": "code",
      "source": [
        "learn.fit_one_cycle(20, 1e-03)"
      ],
      "execution_count": 0,
      "outputs": [
        {
          "output_type": "display_data",
          "data": {
            "text/html": [
              "Total time: 00:15 <p><table style='width:375px; margin-bottom:10px'>\n",
              "  <tr>\n",
              "    <th>epoch</th>\n",
              "    <th>train_loss</th>\n",
              "    <th>valid_loss</th>\n",
              "    <th>root_mean_squared_error</th>\n",
              "    <th>r2_score</th>\n",
              "  </tr>\n",
              "  <tr>\n",
              "    <th>1</th>\n",
              "    <th>1.046075</th>\n",
              "    <th>1.171870</th>\n",
              "    <th>1.069960</th>\n",
              "    <th>-0.051140</th>\n",
              "  </tr>\n",
              "  <tr>\n",
              "    <th>2</th>\n",
              "    <th>1.004840</th>\n",
              "    <th>2.214992</th>\n",
              "    <th>1.439622</th>\n",
              "    <th>-0.978347</th>\n",
              "  </tr>\n",
              "  <tr>\n",
              "    <th>3</th>\n",
              "    <th>0.995194</th>\n",
              "    <th>3.408054</th>\n",
              "    <th>1.735249</th>\n",
              "    <th>-2.001757</th>\n",
              "  </tr>\n",
              "  <tr>\n",
              "    <th>4</th>\n",
              "    <th>0.986039</th>\n",
              "    <th>2.335965</th>\n",
              "    <th>1.511486</th>\n",
              "    <th>-1.263600</th>\n",
              "  </tr>\n",
              "  <tr>\n",
              "    <th>5</th>\n",
              "    <th>0.979440</th>\n",
              "    <th>1.609368</th>\n",
              "    <th>1.250008</th>\n",
              "    <th>-0.469016</th>\n",
              "  </tr>\n",
              "  <tr>\n",
              "    <th>6</th>\n",
              "    <th>0.980927</th>\n",
              "    <th>1.374520</th>\n",
              "    <th>1.161278</th>\n",
              "    <th>-0.241897</th>\n",
              "  </tr>\n",
              "  <tr>\n",
              "    <th>7</th>\n",
              "    <th>0.973034</th>\n",
              "    <th>1.282140</th>\n",
              "    <th>1.116200</th>\n",
              "    <th>-0.145895</th>\n",
              "  </tr>\n",
              "  <tr>\n",
              "    <th>8</th>\n",
              "    <th>0.971911</th>\n",
              "    <th>1.299222</th>\n",
              "    <th>1.112492</th>\n",
              "    <th>-0.140227</th>\n",
              "  </tr>\n",
              "  <tr>\n",
              "    <th>9</th>\n",
              "    <th>0.971090</th>\n",
              "    <th>1.231194</th>\n",
              "    <th>1.099571</th>\n",
              "    <th>-0.115515</th>\n",
              "  </tr>\n",
              "  <tr>\n",
              "    <th>10</th>\n",
              "    <th>0.973756</th>\n",
              "    <th>1.245120</th>\n",
              "    <th>1.091613</th>\n",
              "    <th>-0.097265</th>\n",
              "  </tr>\n",
              "  <tr>\n",
              "    <th>11</th>\n",
              "    <th>0.968874</th>\n",
              "    <th>1.229516</th>\n",
              "    <th>1.088263</th>\n",
              "    <th>-0.089870</th>\n",
              "  </tr>\n",
              "  <tr>\n",
              "    <th>12</th>\n",
              "    <th>0.972920</th>\n",
              "    <th>1.223673</th>\n",
              "    <th>1.085698</th>\n",
              "    <th>-0.084413</th>\n",
              "  </tr>\n",
              "  <tr>\n",
              "    <th>13</th>\n",
              "    <th>0.972792</th>\n",
              "    <th>1.213035</th>\n",
              "    <th>1.083215</th>\n",
              "    <th>-0.077650</th>\n",
              "  </tr>\n",
              "  <tr>\n",
              "    <th>14</th>\n",
              "    <th>0.970364</th>\n",
              "    <th>1.204169</th>\n",
              "    <th>1.076720</th>\n",
              "    <th>-0.065226</th>\n",
              "  </tr>\n",
              "  <tr>\n",
              "    <th>15</th>\n",
              "    <th>0.969379</th>\n",
              "    <th>1.189326</th>\n",
              "    <th>1.075214</th>\n",
              "    <th>-0.060148</th>\n",
              "  </tr>\n",
              "  <tr>\n",
              "    <th>16</th>\n",
              "    <th>0.970266</th>\n",
              "    <th>1.194191</th>\n",
              "    <th>1.071871</th>\n",
              "    <th>-0.054557</th>\n",
              "  </tr>\n",
              "  <tr>\n",
              "    <th>17</th>\n",
              "    <th>0.974779</th>\n",
              "    <th>1.196547</th>\n",
              "    <th>1.076041</th>\n",
              "    <th>-0.062878</th>\n",
              "  </tr>\n",
              "  <tr>\n",
              "    <th>18</th>\n",
              "    <th>0.966084</th>\n",
              "    <th>1.199552</th>\n",
              "    <th>1.078496</th>\n",
              "    <th>-0.067735</th>\n",
              "  </tr>\n",
              "  <tr>\n",
              "    <th>19</th>\n",
              "    <th>0.960765</th>\n",
              "    <th>1.191024</th>\n",
              "    <th>1.073431</th>\n",
              "    <th>-0.056920</th>\n",
              "  </tr>\n",
              "  <tr>\n",
              "    <th>20</th>\n",
              "    <th>0.959376</th>\n",
              "    <th>1.189723</th>\n",
              "    <th>1.075092</th>\n",
              "    <th>-0.060091</th>\n",
              "  </tr>\n",
              "</table>\n"
            ],
            "text/plain": [
              "<IPython.core.display.HTML object>"
            ]
          },
          "metadata": {
            "tags": []
          }
        }
      ]
    },
    {
      "metadata": {
        "id": "vAgZxgWmZtQh",
        "colab_type": "text"
      },
      "cell_type": "markdown",
      "source": [
        "### See if dropout helps"
      ]
    },
    {
      "metadata": {
        "id": "YtSnrFJgZqnH",
        "colab_type": "code",
        "colab": {}
      },
      "cell_type": "code",
      "source": [
        "learn = tabular_learner(data,\n",
        "                        layers=[256,256],\n",
        "                        loss_func=nn.MSELoss(),\n",
        "                        ps=0.5,\n",
        "                        metrics=[root_mean_squared_error, r2_score])"
      ],
      "execution_count": 0,
      "outputs": []
    },
    {
      "metadata": {
        "id": "67ETeMR0Z4IJ",
        "colab_type": "code",
        "outputId": "9e561afe-bffd-4c97-8844-45ad454cb89f",
        "colab": {
          "base_uri": "https://localhost:8080/",
          "height": 314
        }
      },
      "cell_type": "code",
      "source": [
        "learn.lr_find()\n",
        "learn.recorder.plot()"
      ],
      "execution_count": 0,
      "outputs": [
        {
          "output_type": "display_data",
          "data": {
            "text/html": [
              ""
            ],
            "text/plain": [
              "<IPython.core.display.HTML object>"
            ]
          },
          "metadata": {
            "tags": []
          }
        },
        {
          "output_type": "stream",
          "text": [
            "LR Finder is complete, type {learner_name}.recorder.plot() to see the graph.\n",
            "Min numerical gradient: 1.32E-06\n"
          ],
          "name": "stdout"
        },
        {
          "output_type": "display_data",
          "data": {
            "image/png": "[encoded data removed]",
            "text/plain": [
              "<Figure size 432x288 with 1 Axes>"
            ]
          },
          "metadata": {
            "tags": []
          }
        }
      ]
    },
    {
      "metadata": {
        "id": "s7wvqpMpZ8yJ",
        "colab_type": "code",
        "outputId": "02c94384-8e64-4696-afb8-d1ae7ec2473a",
        "colab": {
          "base_uri": "https://localhost:8080/",
          "height": 1118
        }
      },
      "cell_type": "code",
      "source": [
        "learn.fit_one_cycle(50, 1e-03)"
      ],
      "execution_count": 0,
      "outputs": [
        {
          "output_type": "display_data",
          "data": {
            "text/html": [
              "Total time: 00:39 <p><table style='width:375px; margin-bottom:10px'>\n",
              "  <tr>\n",
              "    <th>epoch</th>\n",
              "    <th>train_loss</th>\n",
              "    <th>valid_loss</th>\n",
              "    <th>root_mean_squared_error</th>\n",
              "    <th>r2_score</th>\n",
              "  </tr>\n",
              "  <tr>\n",
              "    <th>1</th>\n",
              "    <th>1.208421</th>\n",
              "    <th>1.195336</th>\n",
              "    <th>1.095394</th>\n",
              "    <th>-0.107128</th>\n",
              "  </tr>\n",
              "  <tr>\n",
              "    <th>2</th>\n",
              "    <th>1.192202</th>\n",
              "    <th>1.744247</th>\n",
              "    <th>1.331167</th>\n",
              "    <th>-0.683158</th>\n",
              "  </tr>\n",
              "  <tr>\n",
              "    <th>3</th>\n",
              "    <th>1.150593</th>\n",
              "    <th>2.459262</th>\n",
              "    <th>1.539505</th>\n",
              "    <th>-1.205892</th>\n",
              "  </tr>\n",
              "  <tr>\n",
              "    <th>4</th>\n",
              "    <th>1.120077</th>\n",
              "    <th>2.126997</th>\n",
              "    <th>1.449922</th>\n",
              "    <th>-0.952502</th>\n",
              "  </tr>\n",
              "  <tr>\n",
              "    <th>5</th>\n",
              "    <th>1.082642</th>\n",
              "    <th>1.911716</th>\n",
              "    <th>1.402984</th>\n",
              "    <th>-0.826664</th>\n",
              "  </tr>\n",
              "  <tr>\n",
              "    <th>6</th>\n",
              "    <th>1.060607</th>\n",
              "    <th>1.921583</th>\n",
              "    <th>1.322814</th>\n",
              "    <th>-0.646948</th>\n",
              "  </tr>\n",
              "  <tr>\n",
              "    <th>7</th>\n",
              "    <th>1.027458</th>\n",
              "    <th>1.580816</th>\n",
              "    <th>1.239128</th>\n",
              "    <th>-0.423093</th>\n",
              "  </tr>\n",
              "  <tr>\n",
              "    <th>8</th>\n",
              "    <th>1.004364</th>\n",
              "    <th>1.438123</th>\n",
              "    <th>1.166471</th>\n",
              "    <th>-0.257774</th>\n",
              "  </tr>\n",
              "  <tr>\n",
              "    <th>9</th>\n",
              "    <th>0.987131</th>\n",
              "    <th>1.241166</th>\n",
              "    <th>1.098059</th>\n",
              "    <th>-0.111512</th>\n",
              "  </tr>\n",
              "  <tr>\n",
              "    <th>10</th>\n",
              "    <th>0.971095</th>\n",
              "    <th>1.209013</th>\n",
              "    <th>1.085086</th>\n",
              "    <th>-0.085628</th>\n",
              "  </tr>\n",
              "  <tr>\n",
              "    <th>11</th>\n",
              "    <th>0.964114</th>\n",
              "    <th>1.190584</th>\n",
              "    <th>1.082216</th>\n",
              "    <th>-0.077962</th>\n",
              "  </tr>\n",
              "  <tr>\n",
              "    <th>12</th>\n",
              "    <th>0.975453</th>\n",
              "    <th>1.165976</th>\n",
              "    <th>1.080569</th>\n",
              "    <th>-0.070655</th>\n",
              "  </tr>\n",
              "  <tr>\n",
              "    <th>13</th>\n",
              "    <th>0.967826</th>\n",
              "    <th>1.168729</th>\n",
              "    <th>1.075534</th>\n",
              "    <th>-0.061062</th>\n",
              "  </tr>\n",
              "  <tr>\n",
              "    <th>14</th>\n",
              "    <th>0.970910</th>\n",
              "    <th>1.169777</th>\n",
              "    <th>1.069737</th>\n",
              "    <th>-0.049429</th>\n",
              "  </tr>\n",
              "  <tr>\n",
              "    <th>15</th>\n",
              "    <th>0.974554</th>\n",
              "    <th>1.166334</th>\n",
              "    <th>1.068178</th>\n",
              "    <th>-0.042930</th>\n",
              "  </tr>\n",
              "  <tr>\n",
              "    <th>16</th>\n",
              "    <th>0.973904</th>\n",
              "    <th>1.178948</th>\n",
              "    <th>1.076907</th>\n",
              "    <th>-0.062545</th>\n",
              "  </tr>\n",
              "  <tr>\n",
              "    <th>17</th>\n",
              "    <th>0.970631</th>\n",
              "    <th>1.178099</th>\n",
              "    <th>1.083769</th>\n",
              "    <th>-0.075321</th>\n",
              "  </tr>\n",
              "  <tr>\n",
              "    <th>18</th>\n",
              "    <th>0.964865</th>\n",
              "    <th>1.172541</th>\n",
              "    <th>1.065627</th>\n",
              "    <th>-0.040696</th>\n",
              "  </tr>\n",
              "  <tr>\n",
              "    <th>19</th>\n",
              "    <th>0.964314</th>\n",
              "    <th>1.194924</th>\n",
              "    <th>1.080769</th>\n",
              "    <th>-0.075951</th>\n",
              "  </tr>\n",
              "  <tr>\n",
              "    <th>20</th>\n",
              "    <th>0.967148</th>\n",
              "    <th>1.192130</th>\n",
              "    <th>1.080832</th>\n",
              "    <th>-0.074370</th>\n",
              "  </tr>\n",
              "  <tr>\n",
              "    <th>21</th>\n",
              "    <th>0.972800</th>\n",
              "    <th>1.178153</th>\n",
              "    <th>1.078241</th>\n",
              "    <th>-0.067741</th>\n",
              "  </tr>\n",
              "  <tr>\n",
              "    <th>22</th>\n",
              "    <th>0.970142</th>\n",
              "    <th>1.180021</th>\n",
              "    <th>1.074496</th>\n",
              "    <th>-0.057111</th>\n",
              "  </tr>\n",
              "  <tr>\n",
              "    <th>23</th>\n",
              "    <th>0.966521</th>\n",
              "    <th>1.219437</th>\n",
              "    <th>1.083927</th>\n",
              "    <th>-0.083034</th>\n",
              "  </tr>\n",
              "  <tr>\n",
              "    <th>24</th>\n",
              "    <th>0.974428</th>\n",
              "    <th>1.175801</th>\n",
              "    <th>1.080366</th>\n",
              "    <th>-0.071955</th>\n",
              "  </tr>\n",
              "  <tr>\n",
              "    <th>25</th>\n",
              "    <th>0.976338</th>\n",
              "    <th>1.197727</th>\n",
              "    <th>1.088698</th>\n",
              "    <th>-0.086923</th>\n",
              "  </tr>\n",
              "  <tr>\n",
              "    <th>26</th>\n",
              "    <th>0.970440</th>\n",
              "    <th>1.183933</th>\n",
              "    <th>1.083948</th>\n",
              "    <th>-0.074733</th>\n",
              "  </tr>\n",
              "  <tr>\n",
              "    <th>27</th>\n",
              "    <th>0.969051</th>\n",
              "    <th>1.302823</th>\n",
              "    <th>1.110518</th>\n",
              "    <th>-0.139970</th>\n",
              "  </tr>\n",
              "  <tr>\n",
              "    <th>28</th>\n",
              "    <th>0.966628</th>\n",
              "    <th>1.170263</th>\n",
              "    <th>1.076635</th>\n",
              "    <th>-0.062633</th>\n",
              "  </tr>\n",
              "  <tr>\n",
              "    <th>29</th>\n",
              "    <th>0.971169</th>\n",
              "    <th>1.425058</th>\n",
              "    <th>1.122362</th>\n",
              "    <th>-0.153795</th>\n",
              "  </tr>\n",
              "  <tr>\n",
              "    <th>30</th>\n",
              "    <th>0.965457</th>\n",
              "    <th>1.199118</th>\n",
              "    <th>1.083062</th>\n",
              "    <th>-0.075535</th>\n",
              "  </tr>\n",
              "  <tr>\n",
              "    <th>31</th>\n",
              "    <th>0.973122</th>\n",
              "    <th>1.204264</th>\n",
              "    <th>1.075169</th>\n",
              "    <th>-0.063534</th>\n",
              "  </tr>\n",
              "  <tr>\n",
              "    <th>32</th>\n",
              "    <th>0.969630</th>\n",
              "    <th>1.864164</th>\n",
              "    <th>1.346692</th>\n",
              "    <th>-0.698111</th>\n",
              "  </tr>\n",
              "  <tr>\n",
              "    <th>33</th>\n",
              "    <th>0.968128</th>\n",
              "    <th>1.241990</th>\n",
              "    <th>1.097737</th>\n",
              "    <th>-0.106781</th>\n",
              "  </tr>\n",
              "  <tr>\n",
              "    <th>34</th>\n",
              "    <th>0.968724</th>\n",
              "    <th>1.190062</th>\n",
              "    <th>1.087348</th>\n",
              "    <th>-0.081041</th>\n",
              "  </tr>\n",
              "  <tr>\n",
              "    <th>35</th>\n",
              "    <th>0.974317</th>\n",
              "    <th>1.457842</th>\n",
              "    <th>1.201528</th>\n",
              "    <th>-0.327159</th>\n",
              "  </tr>\n",
              "  <tr>\n",
              "    <th>36</th>\n",
              "    <th>0.972074</th>\n",
              "    <th>1.557872</th>\n",
              "    <th>1.243078</th>\n",
              "    <th>-0.433233</th>\n",
              "  </tr>\n",
              "  <tr>\n",
              "    <th>37</th>\n",
              "    <th>0.974468</th>\n",
              "    <th>1.176557</th>\n",
              "    <th>1.082217</th>\n",
              "    <th>-0.071456</th>\n",
              "  </tr>\n",
              "  <tr>\n",
              "    <th>38</th>\n",
              "    <th>0.976158</th>\n",
              "    <th>1.185643</th>\n",
              "    <th>1.075219</th>\n",
              "    <th>-0.060094</th>\n",
              "  </tr>\n",
              "  <tr>\n",
              "    <th>39</th>\n",
              "    <th>0.975309</th>\n",
              "    <th>1.163188</th>\n",
              "    <th>1.066210</th>\n",
              "    <th>-0.040491</th>\n",
              "  </tr>\n",
              "  <tr>\n",
              "    <th>40</th>\n",
              "    <th>0.972202</th>\n",
              "    <th>1.165369</th>\n",
              "    <th>1.073129</th>\n",
              "    <th>-0.053810</th>\n",
              "  </tr>\n",
              "  <tr>\n",
              "    <th>41</th>\n",
              "    <th>0.964933</th>\n",
              "    <th>1.159778</th>\n",
              "    <th>1.069322</th>\n",
              "    <th>-0.047071</th>\n",
              "  </tr>\n",
              "  <tr>\n",
              "    <th>42</th>\n",
              "    <th>0.967561</th>\n",
              "    <th>1.160566</th>\n",
              "    <th>1.067469</th>\n",
              "    <th>-0.043776</th>\n",
              "  </tr>\n",
              "  <tr>\n",
              "    <th>43</th>\n",
              "    <th>0.965753</th>\n",
              "    <th>1.160996</th>\n",
              "    <th>1.066804</th>\n",
              "    <th>-0.042861</th>\n",
              "  </tr>\n",
              "  <tr>\n",
              "    <th>44</th>\n",
              "    <th>0.966356</th>\n",
              "    <th>1.159248</th>\n",
              "    <th>1.066545</th>\n",
              "    <th>-0.042102</th>\n",
              "  </tr>\n",
              "  <tr>\n",
              "    <th>45</th>\n",
              "    <th>0.967494</th>\n",
              "    <th>1.161354</th>\n",
              "    <th>1.069304</th>\n",
              "    <th>-0.047186</th>\n",
              "  </tr>\n",
              "  <tr>\n",
              "    <th>46</th>\n",
              "    <th>0.975540</th>\n",
              "    <th>1.159648</th>\n",
              "    <th>1.066098</th>\n",
              "    <th>-0.041685</th>\n",
              "  </tr>\n",
              "  <tr>\n",
              "    <th>47</th>\n",
              "    <th>0.963186</th>\n",
              "    <th>1.159359</th>\n",
              "    <th>1.067077</th>\n",
              "    <th>-0.043481</th>\n",
              "  </tr>\n",
              "  <tr>\n",
              "    <th>48</th>\n",
              "    <th>0.959116</th>\n",
              "    <th>1.159402</th>\n",
              "    <th>1.066920</th>\n",
              "    <th>-0.043208</th>\n",
              "  </tr>\n",
              "  <tr>\n",
              "    <th>49</th>\n",
              "    <th>0.961768</th>\n",
              "    <th>1.159116</th>\n",
              "    <th>1.067521</th>\n",
              "    <th>-0.044401</th>\n",
              "  </tr>\n",
              "  <tr>\n",
              "    <th>50</th>\n",
              "    <th>0.963565</th>\n",
              "    <th>1.159058</th>\n",
              "    <th>1.067011</th>\n",
              "    <th>-0.043391</th>\n",
              "  </tr>\n",
              "</table>\n"
            ],
            "text/plain": [
              "<IPython.core.display.HTML object>"
            ]
          },
          "metadata": {
            "tags": []
          }
        }
      ]
    },
    {
      "metadata": {
        "id": "dCGR5MM8aXt0",
        "colab_type": "text"
      },
      "cell_type": "markdown",
      "source": [
        "### Try more layers:"
      ]
    },
    {
      "metadata": {
        "id": "iji6pcghacRV",
        "colab_type": "code",
        "colab": {}
      },
      "cell_type": "code",
      "source": [
        "learn = tabular_learner(data,\n",
        "                        layers=[1000,500],\n",
        "                        loss_func=nn.MSELoss(),\n",
        "                        ps=0.5,\n",
        "                        metrics=[root_mean_squared_error, r2_score])"
      ],
      "execution_count": 0,
      "outputs": []
    },
    {
      "metadata": {
        "id": "qSaaCHGdajEM",
        "colab_type": "code",
        "outputId": "103e76b7-8ea0-47a1-c2f2-21394525628e",
        "colab": {
          "base_uri": "https://localhost:8080/",
          "height": 314
        }
      },
      "cell_type": "code",
      "source": [
        "learn.lr_find()\n",
        "learn.recorder.plot()"
      ],
      "execution_count": 0,
      "outputs": [
        {
          "output_type": "display_data",
          "data": {
            "text/html": [
              ""
            ],
            "text/plain": [
              "<IPython.core.display.HTML object>"
            ]
          },
          "metadata": {
            "tags": []
          }
        },
        {
          "output_type": "stream",
          "text": [
            "LR Finder is complete, type {learner_name}.recorder.plot() to see the graph.\n",
            "Min numerical gradient: 6.31E-07\n"
          ],
          "name": "stdout"
        },
        {
          "output_type": "display_data",
          "data": {
            "image/png": "[encoded data removed]",
            "text/plain": [
              "<Figure size 432x288 with 1 Axes>"
            ]
          },
          "metadata": {
            "tags": []
          }
        }
      ]
    },
    {
      "metadata": {
        "id": "SimVIVV0ajTy",
        "colab_type": "code",
        "outputId": "ee75f152-88c0-4ebb-d4fe-95a9c43cc658",
        "colab": {
          "base_uri": "https://localhost:8080/",
          "height": 282
        }
      },
      "cell_type": "code",
      "source": [
        "learn.fit_one_cycle(10, 1e-02)"
      ],
      "execution_count": 0,
      "outputs": [
        {
          "output_type": "display_data",
          "data": {
            "text/html": [
              "Total time: 00:08 <p><table style='width:375px; margin-bottom:10px'>\n",
              "  <tr>\n",
              "    <th>epoch</th>\n",
              "    <th>train_loss</th>\n",
              "    <th>valid_loss</th>\n",
              "    <th>root_mean_squared_error</th>\n",
              "    <th>r2_score</th>\n",
              "  </tr>\n",
              "  <tr>\n",
              "    <th>1</th>\n",
              "    <th>1.094608</th>\n",
              "    <th>1.173462</th>\n",
              "    <th>1.079243</th>\n",
              "    <th>-0.069525</th>\n",
              "  </tr>\n",
              "  <tr>\n",
              "    <th>2</th>\n",
              "    <th>1.021536</th>\n",
              "    <th>1.422489</th>\n",
              "    <th>1.196693</th>\n",
              "    <th>-0.347757</th>\n",
              "  </tr>\n",
              "  <tr>\n",
              "    <th>3</th>\n",
              "    <th>1.026171</th>\n",
              "    <th>7.423614</th>\n",
              "    <th>2.555690</th>\n",
              "    <th>-5.454298</th>\n",
              "  </tr>\n",
              "  <tr>\n",
              "    <th>4</th>\n",
              "    <th>1.010626</th>\n",
              "    <th>49.860397</th>\n",
              "    <th>6.418298</th>\n",
              "    <th>-45.135178</th>\n",
              "  </tr>\n",
              "  <tr>\n",
              "    <th>5</th>\n",
              "    <th>0.986105</th>\n",
              "    <th>98.605133</th>\n",
              "    <th>9.024231</th>\n",
              "    <th>-86.350357</th>\n",
              "  </tr>\n",
              "  <tr>\n",
              "    <th>6</th>\n",
              "    <th>0.975257</th>\n",
              "    <th>55.023087</th>\n",
              "    <th>6.754352</th>\n",
              "    <th>-49.255760</th>\n",
              "  </tr>\n",
              "  <tr>\n",
              "    <th>7</th>\n",
              "    <th>0.972559</th>\n",
              "    <th>2038.752197</th>\n",
              "    <th>40.666252</th>\n",
              "    <th>-1918.542114</th>\n",
              "  </tr>\n",
              "  <tr>\n",
              "    <th>8</th>\n",
              "    <th>0.964379</th>\n",
              "    <th>282.396973</th>\n",
              "    <th>15.492607</th>\n",
              "    <th>-259.592896</th>\n",
              "  </tr>\n",
              "  <tr>\n",
              "    <th>9</th>\n",
              "    <th>0.961433</th>\n",
              "    <th>129.388550</th>\n",
              "    <th>10.226062</th>\n",
              "    <th>-124.242188</th>\n",
              "  </tr>\n",
              "  <tr>\n",
              "    <th>10</th>\n",
              "    <th>0.959512</th>\n",
              "    <th>53.558624</th>\n",
              "    <th>6.710922</th>\n",
              "    <th>-51.352036</th>\n",
              "  </tr>\n",
              "</table>\n"
            ],
            "text/plain": [
              "<IPython.core.display.HTML object>"
            ]
          },
          "metadata": {
            "tags": []
          }
        }
      ]
    },
    {
      "metadata": {
        "id": "aR-3HLY2clLJ",
        "colab_type": "code",
        "colab": {}
      },
      "cell_type": "code",
      "source": [
        "learn = tabular_learner(data,\n",
        "                        layers=[256,256,256],\n",
        "                        loss_func=nn.MSELoss(),\n",
        "                        ps=0.5,\n",
        "                        metrics=[root_mean_squared_error, r2_score])"
      ],
      "execution_count": 0,
      "outputs": []
    },
    {
      "metadata": {
        "id": "NpFGLmeecs3n",
        "colab_type": "code",
        "outputId": "8944cbac-9775-45c0-c778-6f528f72ab39",
        "colab": {
          "base_uri": "https://localhost:8080/",
          "height": 314
        }
      },
      "cell_type": "code",
      "source": [
        "learn.lr_find()\n",
        "learn.recorder.plot()"
      ],
      "execution_count": 0,
      "outputs": [
        {
          "output_type": "display_data",
          "data": {
            "text/html": [
              ""
            ],
            "text/plain": [
              "<IPython.core.display.HTML object>"
            ]
          },
          "metadata": {
            "tags": []
          }
        },
        {
          "output_type": "stream",
          "text": [
            "LR Finder is complete, type {learner_name}.recorder.plot() to see the graph.\n",
            "Min numerical gradient: 3.31E-06\n"
          ],
          "name": "stdout"
        },
        {
          "output_type": "display_data",
          "data": {
            "image/png": "[encoded data removed]",
            "text/plain": [
              "<Figure size 432x288 with 1 Axes>"
            ]
          },
          "metadata": {
            "tags": []
          }
        }
      ]
    },
    {
      "metadata": {
        "id": "eflpOatfctHO",
        "colab_type": "code",
        "outputId": "097be8f2-5fc0-4aba-f6e9-60f8199a0209",
        "colab": {
          "base_uri": "https://localhost:8080/",
          "height": 177
        }
      },
      "cell_type": "code",
      "source": [
        "learn.fit_one_cycle(5, 1e-02)"
      ],
      "execution_count": 0,
      "outputs": [
        {
          "output_type": "display_data",
          "data": {
            "text/html": [
              "Total time: 00:04 <p><table style='width:375px; margin-bottom:10px'>\n",
              "  <tr>\n",
              "    <th>epoch</th>\n",
              "    <th>train_loss</th>\n",
              "    <th>valid_loss</th>\n",
              "    <th>root_mean_squared_error</th>\n",
              "    <th>r2_score</th>\n",
              "  </tr>\n",
              "  <tr>\n",
              "    <th>1</th>\n",
              "    <th>1.048806</th>\n",
              "    <th>1.154534</th>\n",
              "    <th>1.062430</th>\n",
              "    <th>-0.033572</th>\n",
              "  </tr>\n",
              "  <tr>\n",
              "    <th>2</th>\n",
              "    <th>1.001712</th>\n",
              "    <th>1.276100</th>\n",
              "    <th>1.154517</th>\n",
              "    <th>-0.216669</th>\n",
              "  </tr>\n",
              "  <tr>\n",
              "    <th>3</th>\n",
              "    <th>0.983240</th>\n",
              "    <th>1.211355</th>\n",
              "    <th>1.101576</th>\n",
              "    <th>-0.118719</th>\n",
              "  </tr>\n",
              "  <tr>\n",
              "    <th>4</th>\n",
              "    <th>0.979191</th>\n",
              "    <th>1.184141</th>\n",
              "    <th>1.078615</th>\n",
              "    <th>-0.064264</th>\n",
              "  </tr>\n",
              "  <tr>\n",
              "    <th>5</th>\n",
              "    <th>0.971282</th>\n",
              "    <th>1.180561</th>\n",
              "    <th>1.071414</th>\n",
              "    <th>-0.051718</th>\n",
              "  </tr>\n",
              "</table>\n"
            ],
            "text/plain": [
              "<IPython.core.display.HTML object>"
            ]
          },
          "metadata": {
            "tags": []
          }
        }
      ]
    },
    {
      "metadata": {
        "id": "MTscTfnaYuAh",
        "colab_type": "text"
      },
      "cell_type": "markdown",
      "source": [
        "### I can't even get the coefficient of determination above 0... that is bad. Time to go back to no standardization and try different architectures:"
      ]
    },
    {
      "metadata": {
        "id": "3oJaPg8AT1ts",
        "colab_type": "code",
        "colab": {}
      },
      "cell_type": "code",
      "source": [
        "# Note that this isn't quite a fair comparison because I am not using \n",
        "# the same train/valid/test split! But I am just trying to get something working\n",
        "data = (TabularList.from_df(pka_df, path='.',\n",
        "                            cont_names=list(pka_df.columns)[1:-1])\n",
        "        .split_by_idx(valid_idx=range(3000,pka_df.shape[0]))\n",
        "        .label_from_df(cols='pka')\n",
        "        .databunch()\n",
        "       ) # no standardization anymore"
      ],
      "execution_count": 0,
      "outputs": []
    },
    {
      "metadata": {
        "id": "xS22Z0IFY8Ir",
        "colab_type": "code",
        "colab": {}
      },
      "cell_type": "code",
      "source": [
        "learn = tabular_learner(data,\n",
        "                        layers=[256,256],\n",
        "                        loss_func=nn.MSELoss(),\n",
        "                        ps=0.5,\n",
        "                        metrics=[root_mean_squared_error, r2_score])"
      ],
      "execution_count": 0,
      "outputs": []
    },
    {
      "metadata": {
        "id": "WGNZFCcNZW8Y",
        "colab_type": "code",
        "outputId": "a55672ee-326e-49d3-a550-43e9defbe03d",
        "colab": {
          "base_uri": "https://localhost:8080/",
          "height": 314
        }
      },
      "cell_type": "code",
      "source": [
        "learn.lr_find()\n",
        "learn.recorder.plot()"
      ],
      "execution_count": 0,
      "outputs": [
        {
          "output_type": "display_data",
          "data": {
            "text/html": [
              ""
            ],
            "text/plain": [
              "<IPython.core.display.HTML object>"
            ]
          },
          "metadata": {
            "tags": []
          }
        },
        {
          "output_type": "stream",
          "text": [
            "LR Finder is complete, type {learner_name}.recorder.plot() to see the graph.\n",
            "Min numerical gradient: 3.31E-02\n"
          ],
          "name": "stdout"
        },
        {
          "output_type": "display_data",
          "data": {
            "image/png": "[encoded data removed]",
            "text/plain": [
              "<Figure size 432x288 with 1 Axes>"
            ]
          },
          "metadata": {
            "tags": []
          }
        }
      ]
    },
    {
      "metadata": {
        "id": "EzPwpW-YZO98",
        "colab_type": "code",
        "outputId": "1887d4fc-59ea-4110-8af2-17f3f5e65ae0",
        "colab": {
          "base_uri": "https://localhost:8080/",
          "height": 177
        }
      },
      "cell_type": "code",
      "source": [
        "learn.fit_one_cycle(5, 1e-02)"
      ],
      "execution_count": 0,
      "outputs": [
        {
          "output_type": "display_data",
          "data": {
            "text/html": [
              "Total time: 00:05 <p><table style='width:375px; margin-bottom:10px'>\n",
              "  <tr>\n",
              "    <th>epoch</th>\n",
              "    <th>train_loss</th>\n",
              "    <th>valid_loss</th>\n",
              "    <th>root_mean_squared_error</th>\n",
              "    <th>r2_score</th>\n",
              "  </tr>\n",
              "  <tr>\n",
              "    <th>1</th>\n",
              "    <th>45.397617</th>\n",
              "    <th>19.455635</th>\n",
              "    <th>4.453118</th>\n",
              "    <th>-0.577790</th>\n",
              "  </tr>\n",
              "  <tr>\n",
              "    <th>2</th>\n",
              "    <th>22.083546</th>\n",
              "    <th>495.436523</th>\n",
              "    <th>21.548813</th>\n",
              "    <th>-39.140060</th>\n",
              "  </tr>\n",
              "  <tr>\n",
              "    <th>3</th>\n",
              "    <th>15.493986</th>\n",
              "    <th>39361.062500</th>\n",
              "    <th>189.054504</th>\n",
              "    <th>-2990.600586</th>\n",
              "  </tr>\n",
              "  <tr>\n",
              "    <th>4</th>\n",
              "    <th>13.219380</th>\n",
              "    <th>33131.933594</th>\n",
              "    <th>175.507370</th>\n",
              "    <th>-2576.547119</th>\n",
              "  </tr>\n",
              "  <tr>\n",
              "    <th>5</th>\n",
              "    <th>12.297815</th>\n",
              "    <th>24915.744141</th>\n",
              "    <th>149.535904</th>\n",
              "    <th>-1853.401611</th>\n",
              "  </tr>\n",
              "</table>\n"
            ],
            "text/plain": [
              "<IPython.core.display.HTML object>"
            ]
          },
          "metadata": {
            "tags": []
          }
        }
      ]
    },
    {
      "metadata": {
        "id": "YAd5inpjDJgv",
        "colab_type": "text"
      },
      "cell_type": "markdown",
      "source": [
        "### Again seems we are overfitting, but the train loss is not even low"
      ]
    },
    {
      "metadata": {
        "id": "-io9v3agZPAn",
        "colab_type": "code",
        "colab": {}
      },
      "cell_type": "code",
      "source": [
        "learn = tabular_learner(data,\n",
        "                        layers=[256],\n",
        "                        loss_func=nn.MSELoss(),\n",
        "                        ps=[0.5],\n",
        "                        metrics=[root_mean_squared_error, r2_score])"
      ],
      "execution_count": 0,
      "outputs": []
    },
    {
      "metadata": {
        "id": "ZqQ88lAcZPGj",
        "colab_type": "code",
        "outputId": "ae4d18c9-a622-4c81-a646-bd5b85d971e9",
        "colab": {
          "base_uri": "https://localhost:8080/",
          "height": 314
        }
      },
      "cell_type": "code",
      "source": [
        "learn.lr_find()\n",
        "learn.recorder.plot()"
      ],
      "execution_count": 0,
      "outputs": [
        {
          "output_type": "display_data",
          "data": {
            "text/html": [
              ""
            ],
            "text/plain": [
              "<IPython.core.display.HTML object>"
            ]
          },
          "metadata": {
            "tags": []
          }
        },
        {
          "output_type": "stream",
          "text": [
            "LR Finder is complete, type {learner_name}.recorder.plot() to see the graph.\n",
            "Min numerical gradient: 3.31E-02\n"
          ],
          "name": "stdout"
        },
        {
          "output_type": "display_data",
          "data": {
            "image/png": "[encoded data removed]",
            "text/plain": [
              "<Figure size 432x288 with 1 Axes>"
            ]
          },
          "metadata": {
            "tags": []
          }
        }
      ]
    },
    {
      "metadata": {
        "id": "1yD6OHwtZPJ7",
        "colab_type": "code",
        "outputId": "9f2af77d-28d8-47fb-a462-0399532f5cf2",
        "colab": {
          "base_uri": "https://localhost:8080/",
          "height": 177
        }
      },
      "cell_type": "code",
      "source": [
        "learn.fit_one_cycle(5, 1e-02)"
      ],
      "execution_count": 0,
      "outputs": [
        {
          "output_type": "display_data",
          "data": {
            "text/html": [
              "Total time: 00:03 <p><table style='width:375px; margin-bottom:10px'>\n",
              "  <tr>\n",
              "    <th>epoch</th>\n",
              "    <th>train_loss</th>\n",
              "    <th>valid_loss</th>\n",
              "    <th>root_mean_squared_error</th>\n",
              "    <th>r2_score</th>\n",
              "  </tr>\n",
              "  <tr>\n",
              "    <th>1</th>\n",
              "    <th>46.521828</th>\n",
              "    <th>22.541798</th>\n",
              "    <th>4.704718</th>\n",
              "    <th>-0.755416</th>\n",
              "  </tr>\n",
              "  <tr>\n",
              "    <th>2</th>\n",
              "    <th>22.361917</th>\n",
              "    <th>1757.030884</th>\n",
              "    <th>33.024479</th>\n",
              "    <th>-132.200119</th>\n",
              "  </tr>\n",
              "  <tr>\n",
              "    <th>3</th>\n",
              "    <th>15.600852</th>\n",
              "    <th>85516.148438</th>\n",
              "    <th>246.415863</th>\n",
              "    <th>-6881.403320</th>\n",
              "  </tr>\n",
              "  <tr>\n",
              "    <th>4</th>\n",
              "    <th>13.276751</th>\n",
              "    <th>119209.835938</th>\n",
              "    <th>285.797516</th>\n",
              "    <th>-9406.459961</th>\n",
              "  </tr>\n",
              "  <tr>\n",
              "    <th>5</th>\n",
              "    <th>12.372142</th>\n",
              "    <th>145369.656250</th>\n",
              "    <th>314.540924</th>\n",
              "    <th>-11181.870117</th>\n",
              "  </tr>\n",
              "</table>\n"
            ],
            "text/plain": [
              "<IPython.core.display.HTML object>"
            ]
          },
          "metadata": {
            "tags": []
          }
        }
      ]
    },
    {
      "metadata": {
        "id": "KLBf-gdGkllj",
        "colab_type": "text"
      },
      "cell_type": "markdown",
      "source": [
        "## Since nothing is working right now..., let's try one last (kind of crazy) approach\n",
        "\n",
        "\n"
      ]
    },
    {
      "metadata": {
        "id": "BC1wV8muY8Sn",
        "colab_type": "code",
        "outputId": "b1e5570c-4736-43cb-8f45-f008ae27de23",
        "colab": {
          "base_uri": "https://localhost:8080/",
          "height": 35
        }
      },
      "cell_type": "code",
      "source": [
        "fps = [np.array(x) for x in pka_df.values[:,1:-1]]\n",
        "fps[0]"
      ],
      "execution_count": 0,
      "outputs": [
        {
          "output_type": "execute_result",
          "data": {
            "text/plain": [
              "array([0., 0., 0., 0., ..., 0., 0., 0., 0.])"
            ]
          },
          "metadata": {
            "tags": []
          },
          "execution_count": 85
        }
      ]
    },
    {
      "metadata": {
        "id": "-PuMFGSHmb5P",
        "colab_type": "code",
        "outputId": "9b3ffd5b-197e-4677-b8bc-8a7d8e63ab89",
        "colab": {
          "base_uri": "https://localhost:8080/",
          "height": 35
        }
      },
      "cell_type": "code",
      "source": [
        "# pad the pictures a bit so we can make them square\n",
        "fps = [np.hstack((x,np.zeros(68))) for x in fps]\n",
        "fps[0]"
      ],
      "execution_count": 0,
      "outputs": [
        {
          "output_type": "execute_result",
          "data": {
            "text/plain": [
              "array([0., 0., 0., 0., ..., 0., 0., 0., 0.])"
            ]
          },
          "metadata": {
            "tags": []
          },
          "execution_count": 86
        }
      ]
    },
    {
      "metadata": {
        "id": "3qHKBU41m0MW",
        "colab_type": "code",
        "outputId": "27f8dd6a-658e-4df7-d584-da80f211d2ad",
        "colab": {
          "base_uri": "https://localhost:8080/",
          "height": 35
        }
      },
      "cell_type": "code",
      "source": [
        "fps[0].shape"
      ],
      "execution_count": 0,
      "outputs": [
        {
          "output_type": "execute_result",
          "data": {
            "text/plain": [
              "(2116,)"
            ]
          },
          "metadata": {
            "tags": []
          },
          "execution_count": 87
        }
      ]
    },
    {
      "metadata": {
        "id": "HKYgZc2YY8WO",
        "colab_type": "code",
        "outputId": "4340e822-6871-4510-db85-029ba5eea05c",
        "colab": {
          "base_uri": "https://localhost:8080/",
          "height": 285
        }
      },
      "cell_type": "code",
      "source": [
        "plt.imshow(fps[0].reshape((46,46)), cmap='gray')"
      ],
      "execution_count": 0,
      "outputs": [
        {
          "output_type": "execute_result",
          "data": {
            "text/plain": [
              "<matplotlib.image.AxesImage at 0x7f7a5c6f21d0>"
            ]
          },
          "metadata": {
            "tags": []
          },
          "execution_count": 89
        },
        {
          "output_type": "display_data",
          "data": {
            "image/png": "[encoded data removed]",
            "text/plain": [
              "<Figure size 432x288 with 1 Axes>"
            ]
          },
          "metadata": {
            "tags": []
          }
        }
      ]
    },
    {
      "metadata": {
        "id": "2cA_hw42qoDO",
        "colab_type": "code",
        "colab": {}
      },
      "cell_type": "code",
      "source": [
        "!mkdir ./img_train/"
      ],
      "execution_count": 0,
      "outputs": []
    },
    {
      "metadata": {
        "id": "RBgeZ3hbY8cx",
        "colab_type": "code",
        "colab": {}
      },
      "cell_type": "code",
      "source": [
        "import scipy\n",
        "import imageio\n",
        "from fastai.basics import *\n",
        "\n",
        "for idx, fp in enumerate(fps):\n",
        "  imageio.imwrite('./img_train/'+ str(idx)+'.png',255*fps[idx].reshape((46,46)).astype(np.uint8))"
      ],
      "execution_count": 0,
      "outputs": []
    },
    {
      "metadata": {
        "id": "ZaV0Sxs4Y8gP",
        "colab_type": "code",
        "outputId": "cc16901a-6fbd-4e43-aa88-633922e5e1af",
        "colab": {
          "base_uri": "https://localhost:8080/",
          "height": 331
        }
      },
      "cell_type": "code",
      "source": [
        "labels_df = pka_df[['pka']]\n",
        "labels_df.rename(columns={'pka':'label'},inplace=True)\n",
        "labels_df['name'] = ''\n",
        "for idx, fp in enumerate(fps):\n",
        "  labels_df.loc[idx,'name'] = './img_train/'+ str(idx)+'.png'"
      ],
      "execution_count": 0,
      "outputs": [
        {
          "output_type": "stream",
          "text": [
            "/usr/local/lib/python3.6/dist-packages/pandas/core/frame.py:4025: SettingWithCopyWarning: \n",
            "A value is trying to be set on a copy of a slice from a DataFrame\n",
            "\n",
            "See the caveats in the documentation: http://pandas.pydata.org/pandas-docs/stable/indexing.html#indexing-view-versus-copy\n",
            "  return super(DataFrame, self).rename(**kwargs)\n",
            "/usr/local/lib/python3.6/dist-packages/ipykernel_launcher.py:3: SettingWithCopyWarning: \n",
            "A value is trying to be set on a copy of a slice from a DataFrame.\n",
            "Try using .loc[row_indexer,col_indexer] = value instead\n",
            "\n",
            "See the caveats in the documentation: http://pandas.pydata.org/pandas-docs/stable/indexing.html#indexing-view-versus-copy\n",
            "  This is separate from the ipykernel package so we can avoid doing imports until\n",
            "/usr/local/lib/python3.6/dist-packages/pandas/core/indexing.py:543: SettingWithCopyWarning: \n",
            "A value is trying to be set on a copy of a slice from a DataFrame.\n",
            "Try using .loc[row_indexer,col_indexer] = value instead\n",
            "\n",
            "See the caveats in the documentation: http://pandas.pydata.org/pandas-docs/stable/indexing.html#indexing-view-versus-copy\n",
            "  self.obj[item] = s\n"
          ],
          "name": "stderr"
        }
      ]
    },
    {
      "metadata": {
        "id": "Mx62UCuSY8jG",
        "colab_type": "code",
        "outputId": "4181caa4-581f-43be-fdf2-08c5740f43d4",
        "colab": {
          "base_uri": "https://localhost:8080/",
          "height": 198
        }
      },
      "cell_type": "code",
      "source": [
        "labels_df.head()"
      ],
      "execution_count": 0,
      "outputs": [
        {
          "output_type": "execute_result",
          "data": {
            "text/html": [
              "<div>\n",
              "<style scoped>\n",
              "    .dataframe tbody tr th:only-of-type {\n",
              "        vertical-align: middle;\n",
              "    }\n",
              "\n",
              "    .dataframe tbody tr th {\n",
              "        vertical-align: top;\n",
              "    }\n",
              "\n",
              "    .dataframe thead th {\n",
              "        text-align: right;\n",
              "    }\n",
              "</style>\n",
              "<table border=\"1\" class=\"dataframe\">\n",
              "  <thead>\n",
              "    <tr style=\"text-align: right;\">\n",
              "      <th></th>\n",
              "      <th>label</th>\n",
              "      <th>name</th>\n",
              "    </tr>\n",
              "  </thead>\n",
              "  <tbody>\n",
              "    <tr>\n",
              "      <th>0</th>\n",
              "      <td>6.35</td>\n",
              "      <td>./img_train/0.png</td>\n",
              "    </tr>\n",
              "    <tr>\n",
              "      <th>1</th>\n",
              "      <td>5.76</td>\n",
              "      <td>./img_train/1.png</td>\n",
              "    </tr>\n",
              "    <tr>\n",
              "      <th>2</th>\n",
              "      <td>5.82</td>\n",
              "      <td>./img_train/2.png</td>\n",
              "    </tr>\n",
              "    <tr>\n",
              "      <th>3</th>\n",
              "      <td>5.80</td>\n",
              "      <td>./img_train/3.png</td>\n",
              "    </tr>\n",
              "    <tr>\n",
              "      <th>4</th>\n",
              "      <td>9.43</td>\n",
              "      <td>./img_train/4.png</td>\n",
              "    </tr>\n",
              "  </tbody>\n",
              "</table>\n",
              "</div>"
            ],
            "text/plain": [
              "   label               name\n",
              "0   6.35  ./img_train/0.png\n",
              "1   5.76  ./img_train/1.png\n",
              "2   5.82  ./img_train/2.png\n",
              "3   5.80  ./img_train/3.png\n",
              "4   9.43  ./img_train/4.png"
            ]
          },
          "metadata": {
            "tags": []
          },
          "execution_count": 97
        }
      ]
    },
    {
      "metadata": {
        "id": "ql8myrEGrGlk",
        "colab_type": "code",
        "colab": {}
      },
      "cell_type": "code",
      "source": [
        "labels_df.to_csv('img_labels.csv')"
      ],
      "execution_count": 0,
      "outputs": []
    },
    {
      "metadata": {
        "id": "IVkCUsuWrGpi",
        "colab_type": "code",
        "colab": {}
      },
      "cell_type": "code",
      "source": [
        "from fastai.vision import *\n",
        "from fastai.basics import *"
      ],
      "execution_count": 0,
      "outputs": []
    },
    {
      "metadata": {
        "id": "Bb7peKx5rGs_",
        "colab_type": "code",
        "colab": {}
      },
      "cell_type": "code",
      "source": [
        "data = (ImageItemList.from_csv('.', 'img_labels.csv', folder='img_train', suffix='.png')\n",
        "        .random_split_by_pct()\n",
        "        .label_from_df()\n",
        "        .databunch())"
      ],
      "execution_count": 0,
      "outputs": []
    },
    {
      "metadata": {
        "id": "h3lPkTFZrGwr",
        "colab_type": "code",
        "outputId": "805ffd09-8cf4-4306-cedb-32cac37afc16",
        "colab": {
          "base_uri": "https://localhost:8080/",
          "height": 585
        }
      },
      "cell_type": "code",
      "source": [
        "data.show_batch(rows=2)"
      ],
      "execution_count": 0,
      "outputs": [
        {
          "output_type": "display_data",
          "data": {
            "image/png": "[encoded data removed]",
            "text/plain": [
              "<Figure size 576x576 with 4 Axes>"
            ]
          },
          "metadata": {
            "tags": []
          }
        }
      ]
    },
    {
      "metadata": {
        "id": "qU1y_ywAHSI5",
        "colab_type": "code",
        "colab": {}
      },
      "cell_type": "code",
      "source": [
        "learn = create_cnn(data,\n",
        "                   models.resnet34,\n",
        "                   loss_func=nn.MSELoss(),\n",
        "                   metrics=[root_mean_squared_error, r2_score] )"
      ],
      "execution_count": 0,
      "outputs": []
    },
    {
      "metadata": {
        "id": "vDgqpYPAHSUI",
        "colab_type": "code",
        "outputId": "6f362e74-8a29-4f90-e7a1-7f16977eae8e",
        "colab": {
          "base_uri": "https://localhost:8080/",
          "height": 314
        }
      },
      "cell_type": "code",
      "source": [
        "learn.lr_find()\n",
        "learn.recorder.plot()"
      ],
      "execution_count": 0,
      "outputs": [
        {
          "output_type": "display_data",
          "data": {
            "text/html": [
              ""
            ],
            "text/plain": [
              "<IPython.core.display.HTML object>"
            ]
          },
          "metadata": {
            "tags": []
          }
        },
        {
          "output_type": "stream",
          "text": [
            "LR Finder is complete, type {learner_name}.recorder.plot() to see the graph.\n",
            "Min numerical gradient: 2.29E-02\n"
          ],
          "name": "stdout"
        },
        {
          "output_type": "display_data",
          "data": {
            "image/png": "[encoded data removed]",
            "text/plain": [
              "<Figure size 432x288 with 1 Axes>"
            ]
          },
          "metadata": {
            "tags": []
          }
        }
      ]
    },
    {
      "metadata": {
        "id": "IKcR6mFnHShM",
        "colab_type": "code",
        "outputId": "84d97167-ded5-4597-d9a6-daf406e46058",
        "colab": {
          "base_uri": "https://localhost:8080/",
          "height": 177
        }
      },
      "cell_type": "code",
      "source": [
        "lr = 1e-2\n",
        "learn.fit_one_cycle(5,slice(lr))"
      ],
      "execution_count": 0,
      "outputs": [
        {
          "output_type": "display_data",
          "data": {
            "text/html": [
              "Total time: 00:21 <p><table style='width:375px; margin-bottom:10px'>\n",
              "  <tr>\n",
              "    <th>epoch</th>\n",
              "    <th>train_loss</th>\n",
              "    <th>valid_loss</th>\n",
              "    <th>root_mean_squared_error</th>\n",
              "    <th>r2_score</th>\n",
              "  </tr>\n",
              "  <tr>\n",
              "    <th>1</th>\n",
              "    <th>40.204990</th>\n",
              "    <th>13.137339</th>\n",
              "    <th>3.644295</th>\n",
              "    <th>-0.149620</th>\n",
              "  </tr>\n",
              "  <tr>\n",
              "    <th>2</th>\n",
              "    <th>21.242006</th>\n",
              "    <th>11.964149</th>\n",
              "    <th>3.443434</th>\n",
              "    <th>-0.024412</th>\n",
              "  </tr>\n",
              "  <tr>\n",
              "    <th>3</th>\n",
              "    <th>15.540550</th>\n",
              "    <th>11.761550</th>\n",
              "    <th>3.428998</th>\n",
              "    <th>-0.016092</th>\n",
              "  </tr>\n",
              "  <tr>\n",
              "    <th>4</th>\n",
              "    <th>13.513216</th>\n",
              "    <th>11.754834</th>\n",
              "    <th>3.421589</th>\n",
              "    <th>-0.011692</th>\n",
              "  </tr>\n",
              "  <tr>\n",
              "    <th>5</th>\n",
              "    <th>12.709634</th>\n",
              "    <th>11.740801</th>\n",
              "    <th>3.412781</th>\n",
              "    <th>-0.006403</th>\n",
              "  </tr>\n",
              "</table>\n"
            ],
            "text/plain": [
              "<IPython.core.display.HTML object>"
            ]
          },
          "metadata": {
            "tags": []
          }
        }
      ]
    },
    {
      "metadata": {
        "id": "ZQtOWV3pHSZ-",
        "colab_type": "code",
        "colab": {}
      },
      "cell_type": "code",
      "source": [
        "learn.unfreeze()"
      ],
      "execution_count": 0,
      "outputs": []
    },
    {
      "metadata": {
        "id": "46sbRWhoHSRA",
        "colab_type": "code",
        "outputId": "f8cc212e-d888-482b-ed15-dc9526cb5149",
        "colab": {
          "base_uri": "https://localhost:8080/",
          "height": 314
        }
      },
      "cell_type": "code",
      "source": [
        "learn.lr_find()\n",
        "learn.recorder.plot()"
      ],
      "execution_count": 0,
      "outputs": [
        {
          "output_type": "display_data",
          "data": {
            "text/html": [
              ""
            ],
            "text/plain": [
              "<IPython.core.display.HTML object>"
            ]
          },
          "metadata": {
            "tags": []
          }
        },
        {
          "output_type": "stream",
          "text": [
            "LR Finder is complete, type {learner_name}.recorder.plot() to see the graph.\n",
            "Min numerical gradient: 7.59E-07\n"
          ],
          "name": "stdout"
        },
        {
          "output_type": "display_data",
          "data": {
            "image/png": "[encoded data removed]",
            "text/plain": [
              "<Figure size 432x288 with 1 Axes>"
            ]
          },
          "metadata": {
            "tags": []
          }
        }
      ]
    },
    {
      "metadata": {
        "id": "UmiTO7BFHSOR",
        "colab_type": "code",
        "outputId": "7377e0cb-6924-4507-bb9e-672d31dab598",
        "colab": {
          "base_uri": "https://localhost:8080/",
          "height": 177
        }
      },
      "cell_type": "code",
      "source": [
        "learn.fit_one_cycle(5, slice(1e-5, lr/5))"
      ],
      "execution_count": 0,
      "outputs": [
        {
          "output_type": "display_data",
          "data": {
            "text/html": [
              "Total time: 00:30 <p><table style='width:375px; margin-bottom:10px'>\n",
              "  <tr>\n",
              "    <th>epoch</th>\n",
              "    <th>train_loss</th>\n",
              "    <th>valid_loss</th>\n",
              "    <th>root_mean_squared_error</th>\n",
              "    <th>r2_score</th>\n",
              "  </tr>\n",
              "  <tr>\n",
              "    <th>1</th>\n",
              "    <th>11.922502</th>\n",
              "    <th>11.779028</th>\n",
              "    <th>3.426512</th>\n",
              "    <th>-0.014609</th>\n",
              "  </tr>\n",
              "  <tr>\n",
              "    <th>2</th>\n",
              "    <th>12.046463</th>\n",
              "    <th>11.790890</th>\n",
              "    <th>3.422046</th>\n",
              "    <th>-0.012432</th>\n",
              "  </tr>\n",
              "  <tr>\n",
              "    <th>3</th>\n",
              "    <th>12.092709</th>\n",
              "    <th>11.737434</th>\n",
              "    <th>3.405621</th>\n",
              "    <th>-0.002491</th>\n",
              "  </tr>\n",
              "  <tr>\n",
              "    <th>4</th>\n",
              "    <th>12.118666</th>\n",
              "    <th>11.745297</th>\n",
              "    <th>3.424965</th>\n",
              "    <th>-0.013573</th>\n",
              "  </tr>\n",
              "  <tr>\n",
              "    <th>5</th>\n",
              "    <th>12.132657</th>\n",
              "    <th>11.731516</th>\n",
              "    <th>3.422354</th>\n",
              "    <th>-0.012097</th>\n",
              "  </tr>\n",
              "</table>\n"
            ],
            "text/plain": [
              "<IPython.core.display.HTML object>"
            ]
          },
          "metadata": {
            "tags": []
          }
        }
      ]
    },
    {
      "metadata": {
        "id": "Etn7XnJtIgI2",
        "colab_type": "code",
        "colab": {}
      },
      "cell_type": "code",
      "source": [
        ""
      ],
      "execution_count": 0,
      "outputs": []
    }
  ]
}