{
 "cells": [
  {
   "cell_type": "markdown",
   "metadata": {},
   "source": [
    "# An experiment in computational statistical inference\n",
    "\n",
    "This notebook is based on the notes and code in the\n",
    "[Teaching statistical inference with resampling](https://github.com/AllenDowney/CompStats/blob/master/resampling.ipynb) notebook\n",
    "by Allen Downey"
   ]
  },
  {
   "cell_type": "code",
   "execution_count": 1,
   "metadata": {},
   "outputs": [
    {
     "name": "stderr",
     "output_type": "stream",
     "text": [
      "ERROR:root:The 'ast_node_interactivity' trait of a ZMQInteractiveShell instance must be any of ['all', 'last', 'last_expr', 'none'], but a value of 'last_expr_or_assign' <class 'str'> was specified.\n"
     ]
    }
   ],
   "source": [
    "# Configure Jupyter so figures appear in the notebook\n",
    "%matplotlib inline\n",
    "\n",
    "# Configure Jupyter to display the assigned value after an assignment\n",
    "%config InteractiveShell.ast_node_interactivity='last_expr_or_assign'\n",
    "\n",
    "import numpy as np\n",
    "import matplotlib.pyplot as plt\n",
    "\n",
    "np.random.seed(4)"
   ]
  },
  {
   "cell_type": "markdown",
   "metadata": {},
   "source": [
    "The following function plots a histogram of a sequence of values:"
   ]
  },
  {
   "cell_type": "code",
   "execution_count": 14,
   "metadata": {},
   "outputs": [],
   "source": [
    "def plot_hist(values, low=None, high=None):\n",
    "    options = dict(alpha=0.5, color='C0')\n",
    "    xs, ys, patches = plt.hist(values,\n",
    "                               normed=True,\n",
    "                               histtype='step', \n",
    "                               linewidth=3,\n",
    "                               **options)\n",
    "    \n",
    "    \n",
    "    plt.ylabel('Density')\n",
    "    plt.tight_layout()\n",
    "    return patches[0]"
   ]
  },
  {
   "cell_type": "code",
   "execution_count": 20,
   "metadata": {},
   "outputs": [],
   "source": [
    "def fill_hist(low, high, patch):\n",
    "    options = dict(alpha=0.5, color='C0')\n",
    "    fill = plt.axvspan(low, high, \n",
    "                       clip_path=patch,\n",
    "                       **options)"
   ]
  },
  {
   "cell_type": "markdown",
   "metadata": {},
   "source": [
    "# My Experiment #\n",
    "\n",
    "Following the \"only one test\" paradigm, I am going to play around with chi-squared like tests.\n",
    "\n",
    "The problem will be the following from Wikipedia (https://en.wikipedia.org/wiki/Pearson%27s_chi-squared_test#Fairness_of_dice):\n",
    "\n",
    "***\n",
    "\n",
    "** Fairness of Dice **\n",
    "\n",
    "A 6-sided dice is thrown 60 times. The number of times it lands with 1, 2, 3, 4, 5 and 6 face up is 5, 8, 9, 8, 10 and 20, respectively. Is the dice biased, according to the Pearson's chi-squared test at a significance level of 95% and/or 99%?\n",
    "\n",
    "n = 6 as there are 6 possible outcomes, 1 to 6. The null hypothesis is that the dice is unbiased, hence each number is expected to occur the same number of times, in this case, 60/n = 10. \n",
    "\n",
    "***\n",
    "\n",
    "Let me start with by defining some functions, similar to the example in Allen Downey's notebook"
   ]
  },
  {
   "cell_type": "code",
   "execution_count": 80,
   "metadata": {},
   "outputs": [],
   "source": [
    "num_throws = 60"
   ]
  },
  {
   "cell_type": "code",
   "execution_count": 81,
   "metadata": {},
   "outputs": [],
   "source": [
    "def roll(n):\n",
    "    dice_rolls = np.random.randint(1,6+1,n)\n",
    "    counts,_ = np.histogram(dice_rolls, bins=list(range(1,7+1)))\n",
    "    return counts"
   ]
  },
  {
   "cell_type": "code",
   "execution_count": 82,
   "metadata": {},
   "outputs": [
    {
     "data": {
      "text/plain": [
       "array([ 8, 15, 10, 13,  6,  8])"
      ]
     },
     "execution_count": 82,
     "metadata": {},
     "output_type": "execute_result"
    }
   ],
   "source": [
    "# for example with n=60\n",
    "roll(num_throws)"
   ]
  },
  {
   "cell_type": "code",
   "execution_count": 83,
   "metadata": {},
   "outputs": [],
   "source": [
    "def run_dice_experiments(n,iters):\n",
    "    t = [roll(n) for i in range(iters)]\n",
    "    return np.array(t)"
   ]
  },
  {
   "cell_type": "code",
   "execution_count": 84,
   "metadata": {},
   "outputs": [],
   "source": [
    "# for example, running with iters=10\n",
    "outcomes = run_dice_experiments(num_throws,10000)"
   ]
  },
  {
   "cell_type": "code",
   "execution_count": 85,
   "metadata": {},
   "outputs": [
    {
     "data": {
      "text/plain": [
       "array([  9.9897,  10.0265,   9.9815,   9.9635,  10.0253,  10.0135])"
      ]
     },
     "execution_count": 85,
     "metadata": {},
     "output_type": "execute_result"
    }
   ],
   "source": [
    "np.mean(outcomes,axis=0)"
   ]
  },
  {
   "cell_type": "code",
   "execution_count": 86,
   "metadata": {},
   "outputs": [],
   "source": [
    "expected = [num_throws/6 for i in range(6)]"
   ]
  },
  {
   "cell_type": "code",
   "execution_count": 87,
   "metadata": {},
   "outputs": [
    {
     "data": {
      "text/plain": [
       "array([[-1., -1.,  2.,  0.,  2., -2.],\n",
       "       [ 1., -4., -3.,  1., -3.,  8.],\n",
       "       [-1.,  2., -2., -2.,  0.,  3.],\n",
       "       ..., \n",
       "       [ 0.,  0.,  3., -2., -2.,  1.],\n",
       "       [ 1.,  4.,  1., -3.,  0., -3.],\n",
       "       [ 2., -6.,  5.,  1., -5.,  3.]])"
      ]
     },
     "execution_count": 87,
     "metadata": {},
     "output_type": "execute_result"
    }
   ],
   "source": [
    "diffs = outcomes-expected\n",
    "diffs"
   ]
  },
  {
   "cell_type": "markdown",
   "metadata": {},
   "source": [
    "Now is where we have a few decisions. How do we quantify the differences between the observed and expected rolls. I am going to try two different methods.\n",
    "\n",
    "- Sum of absolute differences. \n",
    "\n",
    "For example, lets say my rolls for each die (out of 60 total rolls) are:\n",
    "\n",
    "observed = (5,8,9,8,10,20)\n",
    "\n",
    "expected = (10,10,10,10,10,10)\n",
    "\n",
    "sum_abs_diff = $sum(|5-10|,|8-10|,|9-10|,|8-10|,|10-10|,|20-10|) = sum(5,2,1,2,0,10) = 20$\n",
    "\n",
    "- Chi-squared Statistic (uses squared differences) $\\frac{(O_i-E_i)^2}{E_i}$:\n",
    "\n",
    "Same as above, but square the differnce instead of taking the absolute value:\n",
    "\n",
    "observed = (5,8,9,8,10,20)\n",
    "\n",
    "expected = (10,10,10,10,10,10)\n",
    "\n",
    "sum_squared_diff = $sum((5-10)^2/10,(8-10)^2/10,(9-10)^2/10,(8-10)^2/10,(10-10)^2/10,(20-10)^2/10) = sum(2.5,0.4,0.1,0.4,0.0,10) = 13.4$\n"
   ]
  },
  {
   "cell_type": "code",
   "execution_count": 88,
   "metadata": {},
   "outputs": [],
   "source": [
    "sum_abs_diffs = np.sum(np.abs(diffs),axis=1)"
   ]
  },
  {
   "cell_type": "code",
   "execution_count": 89,
   "metadata": {},
   "outputs": [],
   "source": [
    "chi_squared_diffs = np.sum((diffs**2)/(num_throws/6),axis=1)"
   ]
  },
  {
   "cell_type": "markdown",
   "metadata": {},
   "source": [
    "Let's plot all of this now:\n",
    "\n",
    "First let's do the ** sum of absolute deviations **"
   ]
  },
  {
   "cell_type": "code",
   "execution_count": 90,
   "metadata": {},
   "outputs": [
    {
     "data": {
      "image/png": "[encoded data removed]",
      "text/plain": [
       "<matplotlib.figure.Figure at 0x10da9b860>"
      ]
     },
     "metadata": {},
     "output_type": "display_data"
    }
   ],
   "source": [
    "plot_hist(sum_abs_diffs)\n",
    "\n",
    "plt.title('Sampling distribution (n=60)')\n",
    "plt.xlabel('Sum of Absolute Deviations from Expected Rolls');"
   ]
  },
  {
   "cell_type": "markdown",
   "metadata": {},
   "source": [
    "Now for the ** Chi-Squared**"
   ]
  },
  {
   "cell_type": "code",
   "execution_count": 91,
   "metadata": {},
   "outputs": [
    {
     "data": {
      "image/png": "[encoded data removed]",
      "text/plain": [
       "<matplotlib.figure.Figure at 0x10dca1c50>"
      ]
     },
     "metadata": {},
     "output_type": "display_data"
    }
   ],
   "source": [
    "plot_hist(chi_squared_diffs)\n",
    "\n",
    "plt.title('Sampling distribution (n=60)')\n",
    "plt.xlabel('Sum of Absolute Deviations from Expected Rolls');"
   ]
  },
  {
   "cell_type": "markdown",
   "metadata": {},
   "source": [
    "# find the p-values"
   ]
  },
  {
   "cell_type": "code",
   "execution_count": 92,
   "metadata": {},
   "outputs": [],
   "source": [
    "observed = np.array([5,8,9,8,10,20])"
   ]
  },
  {
   "cell_type": "code",
   "execution_count": 93,
   "metadata": {},
   "outputs": [
    {
     "data": {
      "text/plain": [
       "20.0"
      ]
     },
     "execution_count": 93,
     "metadata": {},
     "output_type": "execute_result"
    }
   ],
   "source": [
    "observed_abs_diff = np.sum(np.abs(observed-expected))\n",
    "observed_abs_diff"
   ]
  },
  {
   "cell_type": "code",
   "execution_count": 95,
   "metadata": {},
   "outputs": [
    {
     "data": {
      "text/plain": [
       "0.1246"
      ]
     },
     "execution_count": 95,
     "metadata": {},
     "output_type": "execute_result"
    }
   ],
   "source": [
    "np.mean(sum_abs_diffs >= observed_abs_diff)"
   ]
  },
  {
   "cell_type": "code",
   "execution_count": 96,
   "metadata": {},
   "outputs": [
    {
     "data": {
      "image/png": "[encoded data removed]",
      "text/plain": [
       "<matplotlib.figure.Figure at 0x10dce8550>"
      ]
     },
     "metadata": {},
     "output_type": "display_data"
    }
   ],
   "source": [
    "patch = plot_hist(sum_abs_diffs)\n",
    "\n",
    "low = observed_abs_diff\n",
    "high = np.max(sum_abs_diffs)\n",
    "fill_hist(low, high, patch)"
   ]
  },
  {
   "cell_type": "markdown",
   "metadata": {},
   "source": [
    "Now try it with chi-squared"
   ]
  },
  {
   "cell_type": "code",
   "execution_count": 99,
   "metadata": {},
   "outputs": [
    {
     "data": {
      "text/plain": [
       "13.4"
      ]
     },
     "execution_count": 99,
     "metadata": {},
     "output_type": "execute_result"
    }
   ],
   "source": [
    "observed_chi_squared_diff = np.sum(((observed-expected)**2)/(num_throws/6))\n",
    "observed_chi_squared_diff"
   ]
  },
  {
   "cell_type": "code",
   "execution_count": 100,
   "metadata": {},
   "outputs": [
    {
     "data": {
      "text/plain": [
       "0.0184"
      ]
     },
     "execution_count": 100,
     "metadata": {},
     "output_type": "execute_result"
    }
   ],
   "source": [
    "np.mean(chi_squared_diffs >= observed_chi_squared_diff)"
   ]
  },
  {
   "cell_type": "code",
   "execution_count": 101,
   "metadata": {},
   "outputs": [
    {
     "data": {
      "image/png": "[encoded data removed]",
      "text/plain": [
       "<matplotlib.figure.Figure at 0x10df0eda0>"
      ]
     },
     "metadata": {},
     "output_type": "display_data"
    }
   ],
   "source": [
    "patch = plot_hist(chi_squared_diffs)\n",
    "\n",
    "low = observed_chi_squared_diff\n",
    "high = np.max(chi_squared_diffs)\n",
    "fill_hist(low, high, patch)"
   ]
  },
  {
   "cell_type": "markdown",
   "metadata": {},
   "source": [
    "So my respective p-values are 0.1246 and 0.0184, that's a somewhat large difference... Clearly, the squared term penalizes larger deviations from the expected values more, and thus this may be what causes the difference, since a 6 was rolled 20 times in our example."
   ]
  },
  {
   "cell_type": "code",
   "execution_count": null,
   "metadata": {},
   "outputs": [],
   "source": []
  }
 ],
 "metadata": {
  "kernelspec": {
   "display_name": "Python 3",
   "language": "python",
   "name": "python3"
  },
  "language_info": {
   "codemirror_mode": {
    "name": "ipython",
    "version": 3
   },
   "file_extension": ".py",
   "mimetype": "text/x-python",
   "name": "python",
   "nbconvert_exporter": "python",
   "pygments_lexer": "ipython3",
   "version": "3.6.3"
  }
 },
 "nbformat": 4,
 "nbformat_minor": 2
}
